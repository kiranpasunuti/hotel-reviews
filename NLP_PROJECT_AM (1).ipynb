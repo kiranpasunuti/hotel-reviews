{
  "cells": [
    {
      "cell_type": "markdown",
      "metadata": {
        "id": "6BrbjGamKwQO"
      },
      "source": [
        "Business Objective: **HOTEL RATING CLASSIFICATION**\n",
        "<center>\n",
        "    <img src=\"https://media1.giphy.com/media/3o85xLCFHDghSNviO4/giphy.gif?cid=ecf05e47osv1he0fgurkqt3pi24tei8oxalc2w4zgwzxu0am&rid=giphy.gif&ct=g\" width=\"200\"  align=\"center\"/>\n",
        "</center>\n",
        "\n",
        "\n",
        "---\n",
        "\n",
        "\n",
        "\n",
        "---\n",
        "\n",
        "\n",
        "- major objective is what are the attributes that travelers are\n",
        "considering while selecting a hotel.\n",
        "- With this manager can understand which\n",
        "elements of their hotel influence more in forming a positive review or improves\n",
        "hotel brand image."
      ]
    },
    {
      "cell_type": "markdown",
      "metadata": {
        "id": "ZofbfNH05GHV"
      },
      "source": [
        "#Imporing Necessary Libraries"
      ]
    },
    {
      "cell_type": "code",
      "execution_count": 1,
      "metadata": {
        "colab": {
          "base_uri": "https://localhost:8080/"
        },
        "id": "qdyBPy6Ul4pd",
        "outputId": "58a5ebc4-d406-4de1-ab93-7884d16f5879"
      },
      "outputs": [
        {
          "output_type": "stream",
          "name": "stderr",
          "text": [
            "/usr/local/lib/python3.8/dist-packages/torch/cuda/__init__.py:497: UserWarning: Can't initialize NVML\n",
            "  warnings.warn(\"Can't initialize NVML\")\n"
          ]
        }
      ],
      "source": [
        "\n",
        "import pandas as pd\n",
        "import numpy as np\n",
        "\n",
        "import matplotlib.pyplot as plt\n",
        "%matplotlib inline\n",
        "import seaborn as sns\n",
        "\n",
        "import string  \n",
        "import spacy \n",
        "import nltk\n",
        "\n",
        "import warnings\n",
        "warnings.filterwarnings(\"ignore\")"
      ]
    },
    {
      "cell_type": "code",
      "execution_count": 2,
      "metadata": {
        "id": "fk34-6uybq53"
      },
      "outputs": [],
      "source": [
        "#!pip install spacy"
      ]
    },
    {
      "cell_type": "code",
      "execution_count": 3,
      "metadata": {
        "colab": {
          "base_uri": "https://localhost:8080/"
        },
        "id": "2wcivptyN5Cu",
        "outputId": "ded506b8-6e15-4a21-b893-a6695cb776fa"
      },
      "outputs": [
        {
          "output_type": "stream",
          "name": "stderr",
          "text": [
            "[nltk_data] Downloading package punkt to /root/nltk_data...\n",
            "[nltk_data]   Unzipping tokenizers/punkt.zip.\n"
          ]
        },
        {
          "output_type": "execute_result",
          "data": {
            "text/plain": [
              "True"
            ]
          },
          "metadata": {},
          "execution_count": 3
        }
      ],
      "source": [
        "nltk.download('punkt')"
      ]
    },
    {
      "cell_type": "code",
      "execution_count": 4,
      "metadata": {
        "id": "0dngL1DkmUz8"
      },
      "outputs": [],
      "source": [
        "# Load the data\n",
        "data = pd.read_excel('hotel_reviews (1).xlsx')"
      ]
    },
    {
      "cell_type": "code",
      "execution_count": 5,
      "metadata": {
        "colab": {
          "base_uri": "https://localhost:8080/",
          "height": 363
        },
        "id": "zx9WQyO3mdPH",
        "outputId": "ee9290dd-490c-426c-cc68-d7df6402e0ea"
      },
      "outputs": [
        {
          "output_type": "execute_result",
          "data": {
            "text/plain": [
              "                                              Review  Rating\n",
              "0  nice hotel expensive parking got good deal sta...     4.0\n",
              "1  ok nothing special charge diamond member hilto...     2.0\n",
              "2  nice rooms not 4* experience hotel monaco seat...     3.0\n",
              "3  unique, great stay, wonderful time hotel monac...     5.0\n",
              "4  great stay great stay, went seahawk game aweso...     5.0\n",
              "5  love monaco staff husband stayed hotel crazy w...     5.0\n",
              "6  cozy stay rainy city, husband spent 7 nights m...     5.0\n",
              "7  excellent staff, housekeeping quality hotel ch...     4.0\n",
              "8  hotel stayed hotel monaco cruise, rooms genero...     5.0\n",
              "9  excellent stayed hotel monaco past w/e delight...     5.0"
            ],
            "text/html": [
              "\n",
              "  <div id=\"df-4016b028-8ae8-4262-a3a7-f03c761a13f8\">\n",
              "    <div class=\"colab-df-container\">\n",
              "      <div>\n",
              "<style scoped>\n",
              "    .dataframe tbody tr th:only-of-type {\n",
              "        vertical-align: middle;\n",
              "    }\n",
              "\n",
              "    .dataframe tbody tr th {\n",
              "        vertical-align: top;\n",
              "    }\n",
              "\n",
              "    .dataframe thead th {\n",
              "        text-align: right;\n",
              "    }\n",
              "</style>\n",
              "<table border=\"1\" class=\"dataframe\">\n",
              "  <thead>\n",
              "    <tr style=\"text-align: right;\">\n",
              "      <th></th>\n",
              "      <th>Review</th>\n",
              "      <th>Rating</th>\n",
              "    </tr>\n",
              "  </thead>\n",
              "  <tbody>\n",
              "    <tr>\n",
              "      <th>0</th>\n",
              "      <td>nice hotel expensive parking got good deal sta...</td>\n",
              "      <td>4.0</td>\n",
              "    </tr>\n",
              "    <tr>\n",
              "      <th>1</th>\n",
              "      <td>ok nothing special charge diamond member hilto...</td>\n",
              "      <td>2.0</td>\n",
              "    </tr>\n",
              "    <tr>\n",
              "      <th>2</th>\n",
              "      <td>nice rooms not 4* experience hotel monaco seat...</td>\n",
              "      <td>3.0</td>\n",
              "    </tr>\n",
              "    <tr>\n",
              "      <th>3</th>\n",
              "      <td>unique, great stay, wonderful time hotel monac...</td>\n",
              "      <td>5.0</td>\n",
              "    </tr>\n",
              "    <tr>\n",
              "      <th>4</th>\n",
              "      <td>great stay great stay, went seahawk game aweso...</td>\n",
              "      <td>5.0</td>\n",
              "    </tr>\n",
              "    <tr>\n",
              "      <th>5</th>\n",
              "      <td>love monaco staff husband stayed hotel crazy w...</td>\n",
              "      <td>5.0</td>\n",
              "    </tr>\n",
              "    <tr>\n",
              "      <th>6</th>\n",
              "      <td>cozy stay rainy city, husband spent 7 nights m...</td>\n",
              "      <td>5.0</td>\n",
              "    </tr>\n",
              "    <tr>\n",
              "      <th>7</th>\n",
              "      <td>excellent staff, housekeeping quality hotel ch...</td>\n",
              "      <td>4.0</td>\n",
              "    </tr>\n",
              "    <tr>\n",
              "      <th>8</th>\n",
              "      <td>hotel stayed hotel monaco cruise, rooms genero...</td>\n",
              "      <td>5.0</td>\n",
              "    </tr>\n",
              "    <tr>\n",
              "      <th>9</th>\n",
              "      <td>excellent stayed hotel monaco past w/e delight...</td>\n",
              "      <td>5.0</td>\n",
              "    </tr>\n",
              "  </tbody>\n",
              "</table>\n",
              "</div>\n",
              "      <button class=\"colab-df-convert\" onclick=\"convertToInteractive('df-4016b028-8ae8-4262-a3a7-f03c761a13f8')\"\n",
              "              title=\"Convert this dataframe to an interactive table.\"\n",
              "              style=\"display:none;\">\n",
              "        \n",
              "  <svg xmlns=\"http://www.w3.org/2000/svg\" height=\"24px\"viewBox=\"0 0 24 24\"\n",
              "       width=\"24px\">\n",
              "    <path d=\"M0 0h24v24H0V0z\" fill=\"none\"/>\n",
              "    <path d=\"M18.56 5.44l.94 2.06.94-2.06 2.06-.94-2.06-.94-.94-2.06-.94 2.06-2.06.94zm-11 1L8.5 8.5l.94-2.06 2.06-.94-2.06-.94L8.5 2.5l-.94 2.06-2.06.94zm10 10l.94 2.06.94-2.06 2.06-.94-2.06-.94-.94-2.06-.94 2.06-2.06.94z\"/><path d=\"M17.41 7.96l-1.37-1.37c-.4-.4-.92-.59-1.43-.59-.52 0-1.04.2-1.43.59L10.3 9.45l-7.72 7.72c-.78.78-.78 2.05 0 2.83L4 21.41c.39.39.9.59 1.41.59.51 0 1.02-.2 1.41-.59l7.78-7.78 2.81-2.81c.8-.78.8-2.07 0-2.86zM5.41 20L4 18.59l7.72-7.72 1.47 1.35L5.41 20z\"/>\n",
              "  </svg>\n",
              "      </button>\n",
              "      \n",
              "  <style>\n",
              "    .colab-df-container {\n",
              "      display:flex;\n",
              "      flex-wrap:wrap;\n",
              "      gap: 12px;\n",
              "    }\n",
              "\n",
              "    .colab-df-convert {\n",
              "      background-color: #E8F0FE;\n",
              "      border: none;\n",
              "      border-radius: 50%;\n",
              "      cursor: pointer;\n",
              "      display: none;\n",
              "      fill: #1967D2;\n",
              "      height: 32px;\n",
              "      padding: 0 0 0 0;\n",
              "      width: 32px;\n",
              "    }\n",
              "\n",
              "    .colab-df-convert:hover {\n",
              "      background-color: #E2EBFA;\n",
              "      box-shadow: 0px 1px 2px rgba(60, 64, 67, 0.3), 0px 1px 3px 1px rgba(60, 64, 67, 0.15);\n",
              "      fill: #174EA6;\n",
              "    }\n",
              "\n",
              "    [theme=dark] .colab-df-convert {\n",
              "      background-color: #3B4455;\n",
              "      fill: #D2E3FC;\n",
              "    }\n",
              "\n",
              "    [theme=dark] .colab-df-convert:hover {\n",
              "      background-color: #434B5C;\n",
              "      box-shadow: 0px 1px 3px 1px rgba(0, 0, 0, 0.15);\n",
              "      filter: drop-shadow(0px 1px 2px rgba(0, 0, 0, 0.3));\n",
              "      fill: #FFFFFF;\n",
              "    }\n",
              "  </style>\n",
              "\n",
              "      <script>\n",
              "        const buttonEl =\n",
              "          document.querySelector('#df-4016b028-8ae8-4262-a3a7-f03c761a13f8 button.colab-df-convert');\n",
              "        buttonEl.style.display =\n",
              "          google.colab.kernel.accessAllowed ? 'block' : 'none';\n",
              "\n",
              "        async function convertToInteractive(key) {\n",
              "          const element = document.querySelector('#df-4016b028-8ae8-4262-a3a7-f03c761a13f8');\n",
              "          const dataTable =\n",
              "            await google.colab.kernel.invokeFunction('convertToInteractive',\n",
              "                                                     [key], {});\n",
              "          if (!dataTable) return;\n",
              "\n",
              "          const docLinkHtml = 'Like what you see? Visit the ' +\n",
              "            '<a target=\"_blank\" href=https://colab.research.google.com/notebooks/data_table.ipynb>data table notebook</a>'\n",
              "            + ' to learn more about interactive tables.';\n",
              "          element.innerHTML = '';\n",
              "          dataTable['output_type'] = 'display_data';\n",
              "          await google.colab.output.renderOutput(dataTable, element);\n",
              "          const docLink = document.createElement('div');\n",
              "          docLink.innerHTML = docLinkHtml;\n",
              "          element.appendChild(docLink);\n",
              "        }\n",
              "      </script>\n",
              "    </div>\n",
              "  </div>\n",
              "  "
            ]
          },
          "metadata": {},
          "execution_count": 5
        }
      ],
      "source": [
        "data.head(10)"
      ]
    },
    {
      "cell_type": "markdown",
      "metadata": {
        "id": "f4sAaURybq54"
      },
      "source": [
        "# EDA"
      ]
    },
    {
      "cell_type": "code",
      "execution_count": 6,
      "metadata": {
        "colab": {
          "base_uri": "https://localhost:8080/"
        },
        "id": "GFagwUD34ZsI",
        "outputId": "1a1471ff-3d50-4e38-ebad-49646e66ba2c"
      },
      "outputs": [
        {
          "output_type": "execute_result",
          "data": {
            "text/plain": [
              "(20491, 2)"
            ]
          },
          "metadata": {},
          "execution_count": 6
        }
      ],
      "source": [
        "data.shape"
      ]
    },
    {
      "cell_type": "code",
      "execution_count": 7,
      "metadata": {
        "colab": {
          "base_uri": "https://localhost:8080/"
        },
        "id": "jW9-8kI3muZv",
        "outputId": "6a8bd04d-0509-4147-f780-c84a5253378b"
      },
      "outputs": [
        {
          "output_type": "stream",
          "name": "stdout",
          "text": [
            "<class 'pandas.core.frame.DataFrame'>\n",
            "RangeIndex: 20491 entries, 0 to 20490\n",
            "Data columns (total 2 columns):\n",
            " #   Column  Non-Null Count  Dtype  \n",
            "---  ------  --------------  -----  \n",
            " 0   Review  20491 non-null  object \n",
            " 1   Rating  20491 non-null  float64\n",
            "dtypes: float64(1), object(1)\n",
            "memory usage: 320.3+ KB\n"
          ]
        }
      ],
      "source": [
        "#data structure\n",
        "data.info()"
      ]
    },
    {
      "cell_type": "code",
      "execution_count": 8,
      "metadata": {
        "colab": {
          "base_uri": "https://localhost:8080/"
        },
        "id": "RTkdmHiZP-j7",
        "outputId": "9a1d2d07-6a6b-47a4-cc35-b63ea7aed0c9"
      },
      "outputs": [
        {
          "output_type": "execute_result",
          "data": {
            "text/plain": [
              "Review    object\n",
              "Rating     int64\n",
              "dtype: object"
            ]
          },
          "metadata": {},
          "execution_count": 8
        }
      ],
      "source": [
        "#Converting the ratings column from float to int\n",
        "data['Rating'] = data['Rating'].astype('int')\n",
        "data.dtypes"
      ]
    },
    {
      "cell_type": "code",
      "execution_count": 9,
      "metadata": {
        "colab": {
          "base_uri": "https://localhost:8080/"
        },
        "id": "ya42Q49Mm5IO",
        "outputId": "49396e41-abbd-488f-c70d-904a4aec8e4b"
      },
      "outputs": [
        {
          "output_type": "execute_result",
          "data": {
            "text/plain": [
              "Review    0\n",
              "Rating    0\n",
              "dtype: int64"
            ]
          },
          "metadata": {},
          "execution_count": 9
        }
      ],
      "source": [
        "data.isnull().sum()"
      ]
    },
    {
      "cell_type": "code",
      "execution_count": 10,
      "metadata": {
        "id": "miOaYPxNnBL0",
        "colab": {
          "base_uri": "https://localhost:8080/"
        },
        "outputId": "b53684a9-2bfd-4fb3-8ccc-335b61c4d67e"
      },
      "outputs": [
        {
          "output_type": "execute_result",
          "data": {
            "text/plain": [
              "5    9054\n",
              "4    6039\n",
              "3    2184\n",
              "2    1793\n",
              "1    1421\n",
              "Name: Rating, dtype: int64"
            ]
          },
          "metadata": {},
          "execution_count": 10
        }
      ],
      "source": [
        "# count of review by the rating\n",
        "data['Rating'].value_counts()"
      ]
    },
    {
      "cell_type": "code",
      "source": [
        "# Hotel review by their frequency \n",
        "names = data['Rating'].value_counts()[:6].index\n",
        "values = data['Rating'].value_counts()[:6].values\n",
        "plt.figure(figsize=(9,7))\n",
        "sns.barplot(values,names)\n",
        "plt.title('Result Distribution ')\n",
        "plt.ylabel('Frequency', fontsize=10)\n",
        "plt.yticks(fontsize=10)\n",
        "plt.xlabel('Hotel Reviews', fontsize=10)\n",
        "plt.xticks(fontsize=10)\n",
        "plt.show()\n"
      ],
      "metadata": {
        "colab": {
          "base_uri": "https://localhost:8080/",
          "height": 458
        },
        "id": "4F3M-QjZOJas",
        "outputId": "b0bc45b6-9b09-4260-e205-61502aadbd01"
      },
      "execution_count": 11,
      "outputs": [
        {
          "output_type": "display_data",
          "data": {
            "text/plain": [
              "<Figure size 648x504 with 1 Axes>"
            ],
            "image/png": "[encoded data removed]"
          },
          "metadata": {
            "needs_background": "light"
          }
        }
      ]
    },
    {
      "cell_type": "markdown",
      "source": [
        "**Note**:\n",
        "\n",
        "- From above visual, we can say that count of ratings for 4, 5 are comparatively much higher than the other rating scores.\n",
        "- Hence, we can say for our data that most of the users are highly satisfied with their experience at hotels."
      ],
      "metadata": {
        "id": "H5z9DkTrOJ6n"
      }
    },
    {
      "cell_type": "code",
      "execution_count": 12,
      "metadata": {
        "colab": {
          "base_uri": "https://localhost:8080/",
          "height": 373
        },
        "id": "OVD0zCB7oGo_",
        "outputId": "62667789-159b-45e8-c2fa-b19b7591de28"
      },
      "outputs": [
        {
          "output_type": "display_data",
          "data": {
            "text/plain": [
              "<Figure size 864x432 with 1 Axes>"
            ],
            "image/png": "[encoded data removed]"
          },
          "metadata": {}
        }
      ],
      "source": [
        "plt.figure(figsize = (12,6))\n",
        "names = data['Rating'].value_counts()[:6].index\n",
        "values = data['Rating'].value_counts()[:6].values\n",
        "explode = (0.1,0.1,0.1,0.1,0.1)  # explode 1st slice\n",
        "\n",
        "plt.title('The percentage of rating', weight = 'bold')\n",
        "plt.pie(values, labels=names,explode=explode,autopct='%1.1f%%', shadow=True, startangle=140)\n",
        "plt.axis('equal')\n",
        "plt.show()"
      ]
    },
    {
      "cell_type": "markdown",
      "metadata": {
        "id": "fjyCsM86RCjX"
      },
      "source": [
        "**Inferences** \n",
        "\n",
        "---\n",
        "\n",
        "\n",
        "- From above visual, we can say that almost 75% of reviews are rated (5, 4) by users and remaining 25% reviews are rated (3, 2, 1)\n",
        "- We have an unequal distribution of data, where we have less no. of negative ratings provided by users.\n",
        "- Hence, our dataset is highly imbalanced dataset.\n"
      ]
    },
    {
      "cell_type": "markdown",
      "metadata": {
        "id": "OFu2qIxV4oXV"
      },
      "source": [
        "#Data Preprocessing"
      ]
    },
    {
      "cell_type": "code",
      "execution_count": 13,
      "metadata": {
        "id": "ty-dFAiNoChW"
      },
      "outputs": [],
      "source": [
        "#Number of char use in the review \n",
        "data['num_characters'] = data['Review'].apply(len)"
      ]
    },
    {
      "cell_type": "code",
      "execution_count": 14,
      "metadata": {
        "id": "q6IukqZmoH9h"
      },
      "outputs": [],
      "source": [
        "#Number of words use in the review \n",
        "data['num_words'] = data['Review'].apply(lambda x:len(nltk.word_tokenize(x)))"
      ]
    },
    {
      "cell_type": "code",
      "execution_count": 15,
      "metadata": {
        "id": "iJBj8-0roLiJ"
      },
      "outputs": [],
      "source": [
        "#Number of sent use in the review \n",
        "data['num_sentences'] = data['Review'].apply(lambda x:len(nltk.sent_tokenize(x)))"
      ]
    },
    {
      "cell_type": "code",
      "execution_count": 16,
      "metadata": {
        "colab": {
          "base_uri": "https://localhost:8080/",
          "height": 0
        },
        "id": "t598bKYaoUK9",
        "outputId": "ba6c73b8-ca1a-4437-fcfd-41af02c6bd7e"
      },
      "outputs": [
        {
          "output_type": "execute_result",
          "data": {
            "text/plain": [
              "                                              Review  Rating  num_characters  \\\n",
              "0  nice hotel expensive parking got good deal sta...       4             593   \n",
              "1  ok nothing special charge diamond member hilto...       2            1689   \n",
              "2  nice rooms not 4* experience hotel monaco seat...       3            1427   \n",
              "3  unique, great stay, wonderful time hotel monac...       5             600   \n",
              "4  great stay great stay, went seahawk game aweso...       5            1281   \n",
              "5  love monaco staff husband stayed hotel crazy w...       5            1002   \n",
              "6  cozy stay rainy city, husband spent 7 nights m...       5             748   \n",
              "7  excellent staff, housekeeping quality hotel ch...       4             597   \n",
              "8  hotel stayed hotel monaco cruise, rooms genero...       5             419   \n",
              "9  excellent stayed hotel monaco past w/e delight...       5             271   \n",
              "\n",
              "   num_words  num_sentences  \n",
              "0         98              1  \n",
              "1        270              1  \n",
              "2        236              2  \n",
              "3        102              1  \n",
              "4        224              1  \n",
              "5        152              1  \n",
              "6        112              1  \n",
              "7         91              1  \n",
              "8         72              1  \n",
              "9         40              1  "
            ],
            "text/html": [
              "\n",
              "  <div id=\"df-b6099f7a-6aa5-44fe-b11d-7dd0c91be595\">\n",
              "    <div class=\"colab-df-container\">\n",
              "      <div>\n",
              "<style scoped>\n",
              "    .dataframe tbody tr th:only-of-type {\n",
              "        vertical-align: middle;\n",
              "    }\n",
              "\n",
              "    .dataframe tbody tr th {\n",
              "        vertical-align: top;\n",
              "    }\n",
              "\n",
              "    .dataframe thead th {\n",
              "        text-align: right;\n",
              "    }\n",
              "</style>\n",
              "<table border=\"1\" class=\"dataframe\">\n",
              "  <thead>\n",
              "    <tr style=\"text-align: right;\">\n",
              "      <th></th>\n",
              "      <th>Review</th>\n",
              "      <th>Rating</th>\n",
              "      <th>num_characters</th>\n",
              "      <th>num_words</th>\n",
              "      <th>num_sentences</th>\n",
              "    </tr>\n",
              "  </thead>\n",
              "  <tbody>\n",
              "    <tr>\n",
              "      <th>0</th>\n",
              "      <td>nice hotel expensive parking got good deal sta...</td>\n",
              "      <td>4</td>\n",
              "      <td>593</td>\n",
              "      <td>98</td>\n",
              "      <td>1</td>\n",
              "    </tr>\n",
              "    <tr>\n",
              "      <th>1</th>\n",
              "      <td>ok nothing special charge diamond member hilto...</td>\n",
              "      <td>2</td>\n",
              "      <td>1689</td>\n",
              "      <td>270</td>\n",
              "      <td>1</td>\n",
              "    </tr>\n",
              "    <tr>\n",
              "      <th>2</th>\n",
              "      <td>nice rooms not 4* experience hotel monaco seat...</td>\n",
              "      <td>3</td>\n",
              "      <td>1427</td>\n",
              "      <td>236</td>\n",
              "      <td>2</td>\n",
              "    </tr>\n",
              "    <tr>\n",
              "      <th>3</th>\n",
              "      <td>unique, great stay, wonderful time hotel monac...</td>\n",
              "      <td>5</td>\n",
              "      <td>600</td>\n",
              "      <td>102</td>\n",
              "      <td>1</td>\n",
              "    </tr>\n",
              "    <tr>\n",
              "      <th>4</th>\n",
              "      <td>great stay great stay, went seahawk game aweso...</td>\n",
              "      <td>5</td>\n",
              "      <td>1281</td>\n",
              "      <td>224</td>\n",
              "      <td>1</td>\n",
              "    </tr>\n",
              "    <tr>\n",
              "      <th>5</th>\n",
              "      <td>love monaco staff husband stayed hotel crazy w...</td>\n",
              "      <td>5</td>\n",
              "      <td>1002</td>\n",
              "      <td>152</td>\n",
              "      <td>1</td>\n",
              "    </tr>\n",
              "    <tr>\n",
              "      <th>6</th>\n",
              "      <td>cozy stay rainy city, husband spent 7 nights m...</td>\n",
              "      <td>5</td>\n",
              "      <td>748</td>\n",
              "      <td>112</td>\n",
              "      <td>1</td>\n",
              "    </tr>\n",
              "    <tr>\n",
              "      <th>7</th>\n",
              "      <td>excellent staff, housekeeping quality hotel ch...</td>\n",
              "      <td>4</td>\n",
              "      <td>597</td>\n",
              "      <td>91</td>\n",
              "      <td>1</td>\n",
              "    </tr>\n",
              "    <tr>\n",
              "      <th>8</th>\n",
              "      <td>hotel stayed hotel monaco cruise, rooms genero...</td>\n",
              "      <td>5</td>\n",
              "      <td>419</td>\n",
              "      <td>72</td>\n",
              "      <td>1</td>\n",
              "    </tr>\n",
              "    <tr>\n",
              "      <th>9</th>\n",
              "      <td>excellent stayed hotel monaco past w/e delight...</td>\n",
              "      <td>5</td>\n",
              "      <td>271</td>\n",
              "      <td>40</td>\n",
              "      <td>1</td>\n",
              "    </tr>\n",
              "  </tbody>\n",
              "</table>\n",
              "</div>\n",
              "      <button class=\"colab-df-convert\" onclick=\"convertToInteractive('df-b6099f7a-6aa5-44fe-b11d-7dd0c91be595')\"\n",
              "              title=\"Convert this dataframe to an interactive table.\"\n",
              "              style=\"display:none;\">\n",
              "        \n",
              "  <svg xmlns=\"http://www.w3.org/2000/svg\" height=\"24px\"viewBox=\"0 0 24 24\"\n",
              "       width=\"24px\">\n",
              "    <path d=\"M0 0h24v24H0V0z\" fill=\"none\"/>\n",
              "    <path d=\"M18.56 5.44l.94 2.06.94-2.06 2.06-.94-2.06-.94-.94-2.06-.94 2.06-2.06.94zm-11 1L8.5 8.5l.94-2.06 2.06-.94-2.06-.94L8.5 2.5l-.94 2.06-2.06.94zm10 10l.94 2.06.94-2.06 2.06-.94-2.06-.94-.94-2.06-.94 2.06-2.06.94z\"/><path d=\"M17.41 7.96l-1.37-1.37c-.4-.4-.92-.59-1.43-.59-.52 0-1.04.2-1.43.59L10.3 9.45l-7.72 7.72c-.78.78-.78 2.05 0 2.83L4 21.41c.39.39.9.59 1.41.59.51 0 1.02-.2 1.41-.59l7.78-7.78 2.81-2.81c.8-.78.8-2.07 0-2.86zM5.41 20L4 18.59l7.72-7.72 1.47 1.35L5.41 20z\"/>\n",
              "  </svg>\n",
              "      </button>\n",
              "      \n",
              "  <style>\n",
              "    .colab-df-container {\n",
              "      display:flex;\n",
              "      flex-wrap:wrap;\n",
              "      gap: 12px;\n",
              "    }\n",
              "\n",
              "    .colab-df-convert {\n",
              "      background-color: #E8F0FE;\n",
              "      border: none;\n",
              "      border-radius: 50%;\n",
              "      cursor: pointer;\n",
              "      display: none;\n",
              "      fill: #1967D2;\n",
              "      height: 32px;\n",
              "      padding: 0 0 0 0;\n",
              "      width: 32px;\n",
              "    }\n",
              "\n",
              "    .colab-df-convert:hover {\n",
              "      background-color: #E2EBFA;\n",
              "      box-shadow: 0px 1px 2px rgba(60, 64, 67, 0.3), 0px 1px 3px 1px rgba(60, 64, 67, 0.15);\n",
              "      fill: #174EA6;\n",
              "    }\n",
              "\n",
              "    [theme=dark] .colab-df-convert {\n",
              "      background-color: #3B4455;\n",
              "      fill: #D2E3FC;\n",
              "    }\n",
              "\n",
              "    [theme=dark] .colab-df-convert:hover {\n",
              "      background-color: #434B5C;\n",
              "      box-shadow: 0px 1px 3px 1px rgba(0, 0, 0, 0.15);\n",
              "      filter: drop-shadow(0px 1px 2px rgba(0, 0, 0, 0.3));\n",
              "      fill: #FFFFFF;\n",
              "    }\n",
              "  </style>\n",
              "\n",
              "      <script>\n",
              "        const buttonEl =\n",
              "          document.querySelector('#df-b6099f7a-6aa5-44fe-b11d-7dd0c91be595 button.colab-df-convert');\n",
              "        buttonEl.style.display =\n",
              "          google.colab.kernel.accessAllowed ? 'block' : 'none';\n",
              "\n",
              "        async function convertToInteractive(key) {\n",
              "          const element = document.querySelector('#df-b6099f7a-6aa5-44fe-b11d-7dd0c91be595');\n",
              "          const dataTable =\n",
              "            await google.colab.kernel.invokeFunction('convertToInteractive',\n",
              "                                                     [key], {});\n",
              "          if (!dataTable) return;\n",
              "\n",
              "          const docLinkHtml = 'Like what you see? Visit the ' +\n",
              "            '<a target=\"_blank\" href=https://colab.research.google.com/notebooks/data_table.ipynb>data table notebook</a>'\n",
              "            + ' to learn more about interactive tables.';\n",
              "          element.innerHTML = '';\n",
              "          dataTable['output_type'] = 'display_data';\n",
              "          await google.colab.output.renderOutput(dataTable, element);\n",
              "          const docLink = document.createElement('div');\n",
              "          docLink.innerHTML = docLinkHtml;\n",
              "          element.appendChild(docLink);\n",
              "        }\n",
              "      </script>\n",
              "    </div>\n",
              "  </div>\n",
              "  "
            ]
          },
          "metadata": {},
          "execution_count": 16
        }
      ],
      "source": [
        "data.head(10)"
      ]
    },
    {
      "cell_type": "code",
      "execution_count": 17,
      "metadata": {
        "colab": {
          "base_uri": "https://localhost:8080/",
          "height": 0
        },
        "id": "FOQflsRhR5ay",
        "outputId": "4c1f2842-3f4d-432e-bf27-a0f517cb85a7"
      },
      "outputs": [
        {
          "output_type": "display_data",
          "data": {
            "text/plain": [
              "<Figure size 576x360 with 1 Axes>"
            ],
            "image/png": "[encoded data removed]"
          },
          "metadata": {
            "needs_background": "light"
          }
        }
      ],
      "source": [
        "#Checking the length of words in a review for all the rating\n",
        "plt.figure(figsize=(8,5))\n",
        "sns.scatterplot(x=data['Review'].apply(len), y=data['Rating'], data=data, palette='crest', hue='Rating')\n",
        "plt.title('Length of Review vs Rating')\n",
        "plt.yticks([1,2,3,4,5])\n",
        "plt.show()"
      ]
    },
    {
      "cell_type": "markdown",
      "metadata": {
        "id": "dYTbuhjISNmp"
      },
      "source": [
        "**Note:**\n",
        "\n",
        "---\n",
        "\n",
        "\n",
        "\n",
        "---\n",
        "\n",
        "\n",
        "- From above visual, we can say that the length of review has an effect on ratings.\n",
        "- Lower ratings have lower length of review compared to top ratings.\n",
        "Hence, there exists a positive correlation between Length of Reviews & Ratings."
      ]
    },
    {
      "cell_type": "code",
      "execution_count": 18,
      "metadata": {
        "colab": {
          "base_uri": "https://localhost:8080/",
          "height": 0
        },
        "id": "eBzJY9VjpXxw",
        "outputId": "9fd1dcb7-5a17-436b-cbcf-ec3a647e63e2"
      },
      "outputs": [
        {
          "output_type": "execute_result",
          "data": {
            "text/plain": [
              "<matplotlib.axes._subplots.AxesSubplot at 0x7fb5cc65dd30>"
            ]
          },
          "metadata": {},
          "execution_count": 18
        },
        {
          "output_type": "display_data",
          "data": {
            "text/plain": [
              "<Figure size 432x288 with 2 Axes>"
            ],
            "image/png": "[encoded data removed]"
          },
          "metadata": {
            "needs_background": "light"
          }
        }
      ],
      "source": [
        "sns.heatmap(data.corr(),annot=True)"
      ]
    },
    {
      "cell_type": "markdown",
      "metadata": {
        "id": "MWGnQ27vrlfw"
      },
      "source": [
        "# Text Cleaning"
      ]
    },
    {
      "cell_type": "code",
      "execution_count": 19,
      "metadata": {
        "colab": {
          "base_uri": "https://localhost:8080/"
        },
        "id": "LuHMLsjLpwT7",
        "outputId": "3054ad8c-1b48-4eb0-cf62-4044560761a4"
      },
      "outputs": [
        {
          "output_type": "stream",
          "name": "stderr",
          "text": [
            "[nltk_data] Downloading package omw-1.4 to /root/nltk_data...\n",
            "[nltk_data] Downloading package wordnet to /root/nltk_data...\n",
            "[nltk_data] Downloading package stopwords to /root/nltk_data...\n",
            "[nltk_data]   Unzipping corpora/stopwords.zip.\n"
          ]
        }
      ],
      "source": [
        "import re\n",
        "import string\n",
        "import nltk\n",
        "nltk.download('omw-1.4')\n",
        "nltk.download('wordnet')\n",
        "nltk.download('stopwords')\n",
        "from nltk.tokenize import RegexpTokenizer\n",
        "from nltk.stem import WordNetLemmatizer\n",
        "from nltk.corpus import stopwords"
      ]
    },
    {
      "cell_type": "code",
      "execution_count": 20,
      "metadata": {
        "id": "bmpPgyyvpzy9"
      },
      "outputs": [],
      "source": [
        "def preprocess(sentence):\n",
        "    sentence=str(sentence)\n",
        "    sentence = sentence.lower()\n",
        "    sentence=sentence.replace('{html}',\"\") \n",
        "    cleanr = re.compile('<.*?>')\n",
        "    cleantext = re.sub(cleanr, '', sentence)\n",
        "    rem_url=re.sub(r'http\\S+', '',cleantext)\n",
        "    rem_num = re.sub('[0-9]+', '', rem_url)\n",
        "    tokenizer = RegexpTokenizer(r'\\w+')\n",
        "    tokens = tokenizer.tokenize(rem_num)\n",
        "    filtered_words = [w for w in tokens if len(w) > 2 if not w in stopwords.words('english')]\n",
        "    lemmatizer= WordNetLemmatizer()\n",
        "    lemma_words=[lemmatizer.lemmatize(w) for w in filtered_words]\n",
        "    return \" \".join(lemma_words)"
      ]
    },
    {
      "cell_type": "code",
      "execution_count": 21,
      "metadata": {
        "id": "sUV7umlzp2-t"
      },
      "outputs": [],
      "source": [
        "#The process of reducing the diffrent forms of a word to one single form for ex reducing \"builds\" \"building\",or built to the lemma \"build\"\n",
        "def lemmatise(sentence):\n",
        "    tokenizer = RegexpTokenizer(r'\\w+')\n",
        "    tokens = tokenizer.tokenize(sentence)\n",
        "    lemmatizer = WordNetLemmatizer()\n",
        "    lemma_words=[lemmatizer.lemmatize(w) for w in tokens]\n",
        "    return \" \".join(lemma_words)\n"
      ]
    },
    {
      "cell_type": "code",
      "execution_count": 22,
      "metadata": {
        "colab": {
          "base_uri": "https://localhost:8080/"
        },
        "id": "n7SzekqUvChF",
        "outputId": "df028402-37f8-4128-84ae-e6f912f36e5c"
      },
      "outputs": [
        {
          "output_type": "execute_result",
          "data": {
            "text/plain": [
              "0        nice hotel expensive parking got good deal sta...\n",
              "1        nothing special charge diamond member hilton d...\n",
              "2        nice room experience hotel monaco seattle good...\n",
              "3        unique great stay wonderful time hotel monaco ...\n",
              "4        great stay great stay went seahawk game awesom...\n",
              "                               ...                        \n",
              "20486    best kept secret time staying charm star beat ...\n",
              "20487    great location price view hotel great quick pl...\n",
              "20488    look nice modern outside desk staff particular...\n",
              "20489    hotel theft ruined vacation hotel opened sept ...\n",
              "20490    people talking believe excellent rating hotel ...\n",
              "Name: cleaned_review, Length: 20491, dtype: object"
            ]
          },
          "metadata": {},
          "execution_count": 22
        }
      ],
      "source": [
        "data['cleaned_review']=data['Review'].apply(lambda x :preprocess(x))\n",
        "data['cleaned_review']"
      ]
    },
    {
      "cell_type": "code",
      "execution_count": 23,
      "metadata": {
        "colab": {
          "base_uri": "https://localhost:8080/"
        },
        "id": "qcH_CbK_p51Z",
        "outputId": "6157d77a-f10a-4bbb-b10d-21df209cbb0c"
      },
      "outputs": [
        {
          "output_type": "execute_result",
          "data": {
            "text/plain": [
              "0        [nice, hotel, expensive, parking, got, good, d...\n",
              "1        [nothing, special, charge, diamond, member, hi...\n",
              "2        [nice, room, experience, hotel, monaco, seattl...\n",
              "3        [unique, great, stay, wonderful, time, hotel, ...\n",
              "4        [great, stay, great, stay, went, seahawk, game...\n",
              "                               ...                        \n",
              "20486    [best, kept, secret, time, staying, charm, sta...\n",
              "20487    [great, location, price, view, hotel, great, q...\n",
              "20488    [look, nice, modern, outside, desk, staff, par...\n",
              "20489    [hotel, theft, ruined, vacation, hotel, opened...\n",
              "20490    [people, talking, believe, excellent, rating, ...\n",
              "Name: lemmatized_content, Length: 20491, dtype: object"
            ]
          },
          "metadata": {},
          "execution_count": 23
        }
      ],
      "source": [
        "tokenizer = RegexpTokenizer(r'\\w+')\n",
        "data['lemmatized_content']=data['cleaned_review'].map(lambda x : tokenizer.tokenize(lemmatise(x)))\n",
        "data['lemmatized_content']"
      ]
    },
    {
      "cell_type": "code",
      "execution_count": 24,
      "metadata": {
        "colab": {
          "base_uri": "https://localhost:8080/",
          "height": 0
        },
        "id": "AZycPwypsw8Y",
        "outputId": "7fcec8d5-a803-4131-c8a3-3ee0c84a9b88"
      },
      "outputs": [
        {
          "output_type": "execute_result",
          "data": {
            "text/plain": [
              "                                              Review  Rating  num_characters  \\\n",
              "0  nice hotel expensive parking got good deal sta...       4             593   \n",
              "1  ok nothing special charge diamond member hilto...       2            1689   \n",
              "2  nice rooms not 4* experience hotel monaco seat...       3            1427   \n",
              "3  unique, great stay, wonderful time hotel monac...       5             600   \n",
              "4  great stay great stay, went seahawk game aweso...       5            1281   \n",
              "\n",
              "   num_words  num_sentences  \\\n",
              "0         98              1   \n",
              "1        270              1   \n",
              "2        236              2   \n",
              "3        102              1   \n",
              "4        224              1   \n",
              "\n",
              "                                      cleaned_review  \\\n",
              "0  nice hotel expensive parking got good deal sta...   \n",
              "1  nothing special charge diamond member hilton d...   \n",
              "2  nice room experience hotel monaco seattle good...   \n",
              "3  unique great stay wonderful time hotel monaco ...   \n",
              "4  great stay great stay went seahawk game awesom...   \n",
              "\n",
              "                                  lemmatized_content  \n",
              "0  [nice, hotel, expensive, parking, got, good, d...  \n",
              "1  [nothing, special, charge, diamond, member, hi...  \n",
              "2  [nice, room, experience, hotel, monaco, seattl...  \n",
              "3  [unique, great, stay, wonderful, time, hotel, ...  \n",
              "4  [great, stay, great, stay, went, seahawk, game...  "
            ],
            "text/html": [
              "\n",
              "  <div id=\"df-0df88372-be01-4f2b-ba1b-8be6f07b4228\">\n",
              "    <div class=\"colab-df-container\">\n",
              "      <div>\n",
              "<style scoped>\n",
              "    .dataframe tbody tr th:only-of-type {\n",
              "        vertical-align: middle;\n",
              "    }\n",
              "\n",
              "    .dataframe tbody tr th {\n",
              "        vertical-align: top;\n",
              "    }\n",
              "\n",
              "    .dataframe thead th {\n",
              "        text-align: right;\n",
              "    }\n",
              "</style>\n",
              "<table border=\"1\" class=\"dataframe\">\n",
              "  <thead>\n",
              "    <tr style=\"text-align: right;\">\n",
              "      <th></th>\n",
              "      <th>Review</th>\n",
              "      <th>Rating</th>\n",
              "      <th>num_characters</th>\n",
              "      <th>num_words</th>\n",
              "      <th>num_sentences</th>\n",
              "      <th>cleaned_review</th>\n",
              "      <th>lemmatized_content</th>\n",
              "    </tr>\n",
              "  </thead>\n",
              "  <tbody>\n",
              "    <tr>\n",
              "      <th>0</th>\n",
              "      <td>nice hotel expensive parking got good deal sta...</td>\n",
              "      <td>4</td>\n",
              "      <td>593</td>\n",
              "      <td>98</td>\n",
              "      <td>1</td>\n",
              "      <td>nice hotel expensive parking got good deal sta...</td>\n",
              "      <td>[nice, hotel, expensive, parking, got, good, d...</td>\n",
              "    </tr>\n",
              "    <tr>\n",
              "      <th>1</th>\n",
              "      <td>ok nothing special charge diamond member hilto...</td>\n",
              "      <td>2</td>\n",
              "      <td>1689</td>\n",
              "      <td>270</td>\n",
              "      <td>1</td>\n",
              "      <td>nothing special charge diamond member hilton d...</td>\n",
              "      <td>[nothing, special, charge, diamond, member, hi...</td>\n",
              "    </tr>\n",
              "    <tr>\n",
              "      <th>2</th>\n",
              "      <td>nice rooms not 4* experience hotel monaco seat...</td>\n",
              "      <td>3</td>\n",
              "      <td>1427</td>\n",
              "      <td>236</td>\n",
              "      <td>2</td>\n",
              "      <td>nice room experience hotel monaco seattle good...</td>\n",
              "      <td>[nice, room, experience, hotel, monaco, seattl...</td>\n",
              "    </tr>\n",
              "    <tr>\n",
              "      <th>3</th>\n",
              "      <td>unique, great stay, wonderful time hotel monac...</td>\n",
              "      <td>5</td>\n",
              "      <td>600</td>\n",
              "      <td>102</td>\n",
              "      <td>1</td>\n",
              "      <td>unique great stay wonderful time hotel monaco ...</td>\n",
              "      <td>[unique, great, stay, wonderful, time, hotel, ...</td>\n",
              "    </tr>\n",
              "    <tr>\n",
              "      <th>4</th>\n",
              "      <td>great stay great stay, went seahawk game aweso...</td>\n",
              "      <td>5</td>\n",
              "      <td>1281</td>\n",
              "      <td>224</td>\n",
              "      <td>1</td>\n",
              "      <td>great stay great stay went seahawk game awesom...</td>\n",
              "      <td>[great, stay, great, stay, went, seahawk, game...</td>\n",
              "    </tr>\n",
              "  </tbody>\n",
              "</table>\n",
              "</div>\n",
              "      <button class=\"colab-df-convert\" onclick=\"convertToInteractive('df-0df88372-be01-4f2b-ba1b-8be6f07b4228')\"\n",
              "              title=\"Convert this dataframe to an interactive table.\"\n",
              "              style=\"display:none;\">\n",
              "        \n",
              "  <svg xmlns=\"http://www.w3.org/2000/svg\" height=\"24px\"viewBox=\"0 0 24 24\"\n",
              "       width=\"24px\">\n",
              "    <path d=\"M0 0h24v24H0V0z\" fill=\"none\"/>\n",
              "    <path d=\"M18.56 5.44l.94 2.06.94-2.06 2.06-.94-2.06-.94-.94-2.06-.94 2.06-2.06.94zm-11 1L8.5 8.5l.94-2.06 2.06-.94-2.06-.94L8.5 2.5l-.94 2.06-2.06.94zm10 10l.94 2.06.94-2.06 2.06-.94-2.06-.94-.94-2.06-.94 2.06-2.06.94z\"/><path d=\"M17.41 7.96l-1.37-1.37c-.4-.4-.92-.59-1.43-.59-.52 0-1.04.2-1.43.59L10.3 9.45l-7.72 7.72c-.78.78-.78 2.05 0 2.83L4 21.41c.39.39.9.59 1.41.59.51 0 1.02-.2 1.41-.59l7.78-7.78 2.81-2.81c.8-.78.8-2.07 0-2.86zM5.41 20L4 18.59l7.72-7.72 1.47 1.35L5.41 20z\"/>\n",
              "  </svg>\n",
              "      </button>\n",
              "      \n",
              "  <style>\n",
              "    .colab-df-container {\n",
              "      display:flex;\n",
              "      flex-wrap:wrap;\n",
              "      gap: 12px;\n",
              "    }\n",
              "\n",
              "    .colab-df-convert {\n",
              "      background-color: #E8F0FE;\n",
              "      border: none;\n",
              "      border-radius: 50%;\n",
              "      cursor: pointer;\n",
              "      display: none;\n",
              "      fill: #1967D2;\n",
              "      height: 32px;\n",
              "      padding: 0 0 0 0;\n",
              "      width: 32px;\n",
              "    }\n",
              "\n",
              "    .colab-df-convert:hover {\n",
              "      background-color: #E2EBFA;\n",
              "      box-shadow: 0px 1px 2px rgba(60, 64, 67, 0.3), 0px 1px 3px 1px rgba(60, 64, 67, 0.15);\n",
              "      fill: #174EA6;\n",
              "    }\n",
              "\n",
              "    [theme=dark] .colab-df-convert {\n",
              "      background-color: #3B4455;\n",
              "      fill: #D2E3FC;\n",
              "    }\n",
              "\n",
              "    [theme=dark] .colab-df-convert:hover {\n",
              "      background-color: #434B5C;\n",
              "      box-shadow: 0px 1px 3px 1px rgba(0, 0, 0, 0.15);\n",
              "      filter: drop-shadow(0px 1px 2px rgba(0, 0, 0, 0.3));\n",
              "      fill: #FFFFFF;\n",
              "    }\n",
              "  </style>\n",
              "\n",
              "      <script>\n",
              "        const buttonEl =\n",
              "          document.querySelector('#df-0df88372-be01-4f2b-ba1b-8be6f07b4228 button.colab-df-convert');\n",
              "        buttonEl.style.display =\n",
              "          google.colab.kernel.accessAllowed ? 'block' : 'none';\n",
              "\n",
              "        async function convertToInteractive(key) {\n",
              "          const element = document.querySelector('#df-0df88372-be01-4f2b-ba1b-8be6f07b4228');\n",
              "          const dataTable =\n",
              "            await google.colab.kernel.invokeFunction('convertToInteractive',\n",
              "                                                     [key], {});\n",
              "          if (!dataTable) return;\n",
              "\n",
              "          const docLinkHtml = 'Like what you see? Visit the ' +\n",
              "            '<a target=\"_blank\" href=https://colab.research.google.com/notebooks/data_table.ipynb>data table notebook</a>'\n",
              "            + ' to learn more about interactive tables.';\n",
              "          element.innerHTML = '';\n",
              "          dataTable['output_type'] = 'display_data';\n",
              "          await google.colab.output.renderOutput(dataTable, element);\n",
              "          const docLink = document.createElement('div');\n",
              "          docLink.innerHTML = docLinkHtml;\n",
              "          element.appendChild(docLink);\n",
              "        }\n",
              "      </script>\n",
              "    </div>\n",
              "  </div>\n",
              "  "
            ]
          },
          "metadata": {},
          "execution_count": 24
        }
      ],
      "source": [
        "data.head()"
      ]
    },
    {
      "cell_type": "markdown",
      "source": [
        "# Corpus Visualizing"
      ],
      "metadata": {
        "id": "hPPX8xcE6HOs"
      }
    },
    {
      "cell_type": "code",
      "source": [
        "from sklearn.feature_extraction.text import CountVectorizer\n",
        "\n",
        "def get_top_n2_words(corpus ,n =None):\n",
        "    vec1 = CountVectorizer(ngram_range =(1,1),max_features = 2000).fit(corpus)\n",
        "    bag_of_words = vec1.transform(corpus)\n",
        "    sum_words = bag_of_words.sum(axis = 0)\n",
        "    words_freq = [(word,sum_words[0,idx])for word ,idx in vec1.vocabulary_.items()]\n",
        "    words_freq = sorted(words_freq , key =lambda x:x[1] ,reverse = True)\n",
        "    return words_freq[:n]\n"
      ],
      "metadata": {
        "id": "4AR7A3y7D0NK"
      },
      "execution_count": 30,
      "outputs": []
    },
    {
      "cell_type": "code",
      "source": [
        "top1_words = get_top_n2_words(data[\"Review\"],n = 200)\n",
        "top1_df = pd.DataFrame(top1_words)\n",
        "top1_df.columns = [\"Uni-Gram\" , \"Freq\"]\n",
        "top1_df.head()"
      ],
      "metadata": {
        "colab": {
          "base_uri": "https://localhost:8080/",
          "height": 206
        },
        "id": "WotepZ55EAod",
        "outputId": "2b32d0ed-9b45-44e3-eee9-fb239c1e8c94"
      },
      "execution_count": 31,
      "outputs": [
        {
          "output_type": "execute_result",
          "data": {
            "text/plain": [
              "  Uni-Gram   Freq\n",
              "0    hotel  49814\n",
              "1     room  35330\n",
              "2      not  31709\n",
              "3    great  21475\n",
              "4     good  17412"
            ],
            "text/html": [
              "\n",
              "  <div id=\"df-40d3f683-9282-4556-b151-953b1dbdb116\">\n",
              "    <div class=\"colab-df-container\">\n",
              "      <div>\n",
              "<style scoped>\n",
              "    .dataframe tbody tr th:only-of-type {\n",
              "        vertical-align: middle;\n",
              "    }\n",
              "\n",
              "    .dataframe tbody tr th {\n",
              "        vertical-align: top;\n",
              "    }\n",
              "\n",
              "    .dataframe thead th {\n",
              "        text-align: right;\n",
              "    }\n",
              "</style>\n",
              "<table border=\"1\" class=\"dataframe\">\n",
              "  <thead>\n",
              "    <tr style=\"text-align: right;\">\n",
              "      <th></th>\n",
              "      <th>Uni-Gram</th>\n",
              "      <th>Freq</th>\n",
              "    </tr>\n",
              "  </thead>\n",
              "  <tbody>\n",
              "    <tr>\n",
              "      <th>0</th>\n",
              "      <td>hotel</td>\n",
              "      <td>49814</td>\n",
              "    </tr>\n",
              "    <tr>\n",
              "      <th>1</th>\n",
              "      <td>room</td>\n",
              "      <td>35330</td>\n",
              "    </tr>\n",
              "    <tr>\n",
              "      <th>2</th>\n",
              "      <td>not</td>\n",
              "      <td>31709</td>\n",
              "    </tr>\n",
              "    <tr>\n",
              "      <th>3</th>\n",
              "      <td>great</td>\n",
              "      <td>21475</td>\n",
              "    </tr>\n",
              "    <tr>\n",
              "      <th>4</th>\n",
              "      <td>good</td>\n",
              "      <td>17412</td>\n",
              "    </tr>\n",
              "  </tbody>\n",
              "</table>\n",
              "</div>\n",
              "      <button class=\"colab-df-convert\" onclick=\"convertToInteractive('df-40d3f683-9282-4556-b151-953b1dbdb116')\"\n",
              "              title=\"Convert this dataframe to an interactive table.\"\n",
              "              style=\"display:none;\">\n",
              "        \n",
              "  <svg xmlns=\"http://www.w3.org/2000/svg\" height=\"24px\"viewBox=\"0 0 24 24\"\n",
              "       width=\"24px\">\n",
              "    <path d=\"M0 0h24v24H0V0z\" fill=\"none\"/>\n",
              "    <path d=\"M18.56 5.44l.94 2.06.94-2.06 2.06-.94-2.06-.94-.94-2.06-.94 2.06-2.06.94zm-11 1L8.5 8.5l.94-2.06 2.06-.94-2.06-.94L8.5 2.5l-.94 2.06-2.06.94zm10 10l.94 2.06.94-2.06 2.06-.94-2.06-.94-.94-2.06-.94 2.06-2.06.94z\"/><path d=\"M17.41 7.96l-1.37-1.37c-.4-.4-.92-.59-1.43-.59-.52 0-1.04.2-1.43.59L10.3 9.45l-7.72 7.72c-.78.78-.78 2.05 0 2.83L4 21.41c.39.39.9.59 1.41.59.51 0 1.02-.2 1.41-.59l7.78-7.78 2.81-2.81c.8-.78.8-2.07 0-2.86zM5.41 20L4 18.59l7.72-7.72 1.47 1.35L5.41 20z\"/>\n",
              "  </svg>\n",
              "      </button>\n",
              "      \n",
              "  <style>\n",
              "    .colab-df-container {\n",
              "      display:flex;\n",
              "      flex-wrap:wrap;\n",
              "      gap: 12px;\n",
              "    }\n",
              "\n",
              "    .colab-df-convert {\n",
              "      background-color: #E8F0FE;\n",
              "      border: none;\n",
              "      border-radius: 50%;\n",
              "      cursor: pointer;\n",
              "      display: none;\n",
              "      fill: #1967D2;\n",
              "      height: 32px;\n",
              "      padding: 0 0 0 0;\n",
              "      width: 32px;\n",
              "    }\n",
              "\n",
              "    .colab-df-convert:hover {\n",
              "      background-color: #E2EBFA;\n",
              "      box-shadow: 0px 1px 2px rgba(60, 64, 67, 0.3), 0px 1px 3px 1px rgba(60, 64, 67, 0.15);\n",
              "      fill: #174EA6;\n",
              "    }\n",
              "\n",
              "    [theme=dark] .colab-df-convert {\n",
              "      background-color: #3B4455;\n",
              "      fill: #D2E3FC;\n",
              "    }\n",
              "\n",
              "    [theme=dark] .colab-df-convert:hover {\n",
              "      background-color: #434B5C;\n",
              "      box-shadow: 0px 1px 3px 1px rgba(0, 0, 0, 0.15);\n",
              "      filter: drop-shadow(0px 1px 2px rgba(0, 0, 0, 0.3));\n",
              "      fill: #FFFFFF;\n",
              "    }\n",
              "  </style>\n",
              "\n",
              "      <script>\n",
              "        const buttonEl =\n",
              "          document.querySelector('#df-40d3f683-9282-4556-b151-953b1dbdb116 button.colab-df-convert');\n",
              "        buttonEl.style.display =\n",
              "          google.colab.kernel.accessAllowed ? 'block' : 'none';\n",
              "\n",
              "        async function convertToInteractive(key) {\n",
              "          const element = document.querySelector('#df-40d3f683-9282-4556-b151-953b1dbdb116');\n",
              "          const dataTable =\n",
              "            await google.colab.kernel.invokeFunction('convertToInteractive',\n",
              "                                                     [key], {});\n",
              "          if (!dataTable) return;\n",
              "\n",
              "          const docLinkHtml = 'Like what you see? Visit the ' +\n",
              "            '<a target=\"_blank\" href=https://colab.research.google.com/notebooks/data_table.ipynb>data table notebook</a>'\n",
              "            + ' to learn more about interactive tables.';\n",
              "          element.innerHTML = '';\n",
              "          dataTable['output_type'] = 'display_data';\n",
              "          await google.colab.output.renderOutput(dataTable, element);\n",
              "          const docLink = document.createElement('div');\n",
              "          docLink.innerHTML = docLinkHtml;\n",
              "          element.appendChild(docLink);\n",
              "        }\n",
              "      </script>\n",
              "    </div>\n",
              "  </div>\n",
              "  "
            ]
          },
          "metadata": {},
          "execution_count": 31
        }
      ]
    },
    {
      "cell_type": "code",
      "source": [
        "# Uni-Gram plot\n",
        "\n",
        "top20_bigram = top1_df.iloc[0:20,:]\n",
        "fig = plt.figure(figsize = (20,10))\n",
        "plot = sns.barplot(x =top20_bigram[\"Uni-Gram\"],y = top20_bigram[\"Freq\"])\n",
        "plot.set_xticklabels(rotation = 45,labels=top20_bigram[\"Uni-Gram\"])\n",
        "plt.show()"
      ],
      "metadata": {
        "colab": {
          "base_uri": "https://localhost:8080/",
          "height": 636
        },
        "id": "-8Hvic7VExUh",
        "outputId": "5d083dd2-e88e-4fa1-eff1-02c2546598c1"
      },
      "execution_count": 32,
      "outputs": [
        {
          "output_type": "display_data",
          "data": {
            "text/plain": [
              "<Figure size 1440x720 with 1 Axes>"
            ],
            "image/png": "[encoded data removed]"
          },
          "metadata": {
            "needs_background": "light"
          }
        }
      ]
    },
    {
      "cell_type": "code",
      "source": [
        "def get_top_n2_words(corpus ,n =None):\n",
        "    vec1 = CountVectorizer(ngram_range =(2,2),max_features = 2000).fit(corpus)\n",
        "    bag_of_words = vec1.transform(corpus)\n",
        "    sum_words = bag_of_words.sum(axis = 0)\n",
        "    words_freq = [(word,sum_words[0,idx])for word ,idx in vec1.vocabulary_.items()]\n",
        "    words_freq = sorted(words_freq , key =lambda x:x[1] ,reverse = True)\n",
        "    return words_freq[:n]"
      ],
      "metadata": {
        "id": "dfKdBLG4Cw69"
      },
      "execution_count": 33,
      "outputs": []
    },
    {
      "cell_type": "code",
      "source": [
        "top2_words = get_top_n2_words(data[\"Review\"],n = 200)\n",
        "top2_df = pd.DataFrame(top2_words)\n",
        "top2_df.columns = [\"Bi-Gram\" , \"Freq\"]\n",
        "top2_df.head()"
      ],
      "metadata": {
        "colab": {
          "base_uri": "https://localhost:8080/",
          "height": 206
        },
        "id": "eryA6nwrC4MC",
        "outputId": "7206acd5-7ae6-412e-e40d-11fda410c5ac"
      },
      "execution_count": 34,
      "outputs": [
        {
          "output_type": "execute_result",
          "data": {
            "text/plain": [
              "            Bi-Gram  Freq\n",
              "0           did not  3773\n",
              "1    great location  2203\n",
              "2    staff friendly  2116\n",
              "3        punta cana  1727\n",
              "4  walking distance  1468"
            ],
            "text/html": [
              "\n",
              "  <div id=\"df-a93720f5-0c25-414a-aa1f-708c13346bbc\">\n",
              "    <div class=\"colab-df-container\">\n",
              "      <div>\n",
              "<style scoped>\n",
              "    .dataframe tbody tr th:only-of-type {\n",
              "        vertical-align: middle;\n",
              "    }\n",
              "\n",
              "    .dataframe tbody tr th {\n",
              "        vertical-align: top;\n",
              "    }\n",
              "\n",
              "    .dataframe thead th {\n",
              "        text-align: right;\n",
              "    }\n",
              "</style>\n",
              "<table border=\"1\" class=\"dataframe\">\n",
              "  <thead>\n",
              "    <tr style=\"text-align: right;\">\n",
              "      <th></th>\n",
              "      <th>Bi-Gram</th>\n",
              "      <th>Freq</th>\n",
              "    </tr>\n",
              "  </thead>\n",
              "  <tbody>\n",
              "    <tr>\n",
              "      <th>0</th>\n",
              "      <td>did not</td>\n",
              "      <td>3773</td>\n",
              "    </tr>\n",
              "    <tr>\n",
              "      <th>1</th>\n",
              "      <td>great location</td>\n",
              "      <td>2203</td>\n",
              "    </tr>\n",
              "    <tr>\n",
              "      <th>2</th>\n",
              "      <td>staff friendly</td>\n",
              "      <td>2116</td>\n",
              "    </tr>\n",
              "    <tr>\n",
              "      <th>3</th>\n",
              "      <td>punta cana</td>\n",
              "      <td>1727</td>\n",
              "    </tr>\n",
              "    <tr>\n",
              "      <th>4</th>\n",
              "      <td>walking distance</td>\n",
              "      <td>1468</td>\n",
              "    </tr>\n",
              "  </tbody>\n",
              "</table>\n",
              "</div>\n",
              "      <button class=\"colab-df-convert\" onclick=\"convertToInteractive('df-a93720f5-0c25-414a-aa1f-708c13346bbc')\"\n",
              "              title=\"Convert this dataframe to an interactive table.\"\n",
              "              style=\"display:none;\">\n",
              "        \n",
              "  <svg xmlns=\"http://www.w3.org/2000/svg\" height=\"24px\"viewBox=\"0 0 24 24\"\n",
              "       width=\"24px\">\n",
              "    <path d=\"M0 0h24v24H0V0z\" fill=\"none\"/>\n",
              "    <path d=\"M18.56 5.44l.94 2.06.94-2.06 2.06-.94-2.06-.94-.94-2.06-.94 2.06-2.06.94zm-11 1L8.5 8.5l.94-2.06 2.06-.94-2.06-.94L8.5 2.5l-.94 2.06-2.06.94zm10 10l.94 2.06.94-2.06 2.06-.94-2.06-.94-.94-2.06-.94 2.06-2.06.94z\"/><path d=\"M17.41 7.96l-1.37-1.37c-.4-.4-.92-.59-1.43-.59-.52 0-1.04.2-1.43.59L10.3 9.45l-7.72 7.72c-.78.78-.78 2.05 0 2.83L4 21.41c.39.39.9.59 1.41.59.51 0 1.02-.2 1.41-.59l7.78-7.78 2.81-2.81c.8-.78.8-2.07 0-2.86zM5.41 20L4 18.59l7.72-7.72 1.47 1.35L5.41 20z\"/>\n",
              "  </svg>\n",
              "      </button>\n",
              "      \n",
              "  <style>\n",
              "    .colab-df-container {\n",
              "      display:flex;\n",
              "      flex-wrap:wrap;\n",
              "      gap: 12px;\n",
              "    }\n",
              "\n",
              "    .colab-df-convert {\n",
              "      background-color: #E8F0FE;\n",
              "      border: none;\n",
              "      border-radius: 50%;\n",
              "      cursor: pointer;\n",
              "      display: none;\n",
              "      fill: #1967D2;\n",
              "      height: 32px;\n",
              "      padding: 0 0 0 0;\n",
              "      width: 32px;\n",
              "    }\n",
              "\n",
              "    .colab-df-convert:hover {\n",
              "      background-color: #E2EBFA;\n",
              "      box-shadow: 0px 1px 2px rgba(60, 64, 67, 0.3), 0px 1px 3px 1px rgba(60, 64, 67, 0.15);\n",
              "      fill: #174EA6;\n",
              "    }\n",
              "\n",
              "    [theme=dark] .colab-df-convert {\n",
              "      background-color: #3B4455;\n",
              "      fill: #D2E3FC;\n",
              "    }\n",
              "\n",
              "    [theme=dark] .colab-df-convert:hover {\n",
              "      background-color: #434B5C;\n",
              "      box-shadow: 0px 1px 3px 1px rgba(0, 0, 0, 0.15);\n",
              "      filter: drop-shadow(0px 1px 2px rgba(0, 0, 0, 0.3));\n",
              "      fill: #FFFFFF;\n",
              "    }\n",
              "  </style>\n",
              "\n",
              "      <script>\n",
              "        const buttonEl =\n",
              "          document.querySelector('#df-a93720f5-0c25-414a-aa1f-708c13346bbc button.colab-df-convert');\n",
              "        buttonEl.style.display =\n",
              "          google.colab.kernel.accessAllowed ? 'block' : 'none';\n",
              "\n",
              "        async function convertToInteractive(key) {\n",
              "          const element = document.querySelector('#df-a93720f5-0c25-414a-aa1f-708c13346bbc');\n",
              "          const dataTable =\n",
              "            await google.colab.kernel.invokeFunction('convertToInteractive',\n",
              "                                                     [key], {});\n",
              "          if (!dataTable) return;\n",
              "\n",
              "          const docLinkHtml = 'Like what you see? Visit the ' +\n",
              "            '<a target=\"_blank\" href=https://colab.research.google.com/notebooks/data_table.ipynb>data table notebook</a>'\n",
              "            + ' to learn more about interactive tables.';\n",
              "          element.innerHTML = '';\n",
              "          dataTable['output_type'] = 'display_data';\n",
              "          await google.colab.output.renderOutput(dataTable, element);\n",
              "          const docLink = document.createElement('div');\n",
              "          docLink.innerHTML = docLinkHtml;\n",
              "          element.appendChild(docLink);\n",
              "        }\n",
              "      </script>\n",
              "    </div>\n",
              "  </div>\n",
              "  "
            ]
          },
          "metadata": {},
          "execution_count": 34
        }
      ]
    },
    {
      "cell_type": "code",
      "source": [
        "# Bi-Gram plot\n",
        "\n",
        "top20_bigram = top2_df.iloc[0:20,:]\n",
        "fig = plt.figure(figsize = (20,9))\n",
        "plot = sns.barplot(x =top20_bigram[\"Bi-Gram\"],y = top20_bigram[\"Freq\"])\n",
        "plot.set_xticklabels(rotation = 45,labels=top20_bigram[\"Bi-Gram\"])\n",
        "plt.show()"
      ],
      "metadata": {
        "colab": {
          "base_uri": "https://localhost:8080/",
          "height": 614
        },
        "id": "WXnTU9lPDEIK",
        "outputId": "96866da4-146b-4955-c829-30146b13a18d"
      },
      "execution_count": 35,
      "outputs": [
        {
          "output_type": "display_data",
          "data": {
            "text/plain": [
              "<Figure size 1440x648 with 1 Axes>"
            ],
            "image/png": "[encoded data removed]"
          },
          "metadata": {
            "needs_background": "light"
          }
        }
      ]
    },
    {
      "cell_type": "code",
      "source": [
        "# TRI GRAM\n",
        "def get_top_n3_words(corpus ,n =None):\n",
        "    vec1 = CountVectorizer(ngram_range =(3,3),max_features = 2000).fit(corpus)\n",
        "    bag_of_words = vec1.transform(corpus)\n",
        "    sum_words = bag_of_words.sum(axis = 0)\n",
        "    words_freq = [(word,sum_words[0,idx])for word ,idx in vec1.vocabulary_.items()]\n",
        "    words_freq = sorted(words_freq , key =lambda x:x[1] ,reverse = True)\n",
        "    return words_freq[:n]"
      ],
      "metadata": {
        "id": "o_GdQz4zDZo1"
      },
      "execution_count": 36,
      "outputs": []
    },
    {
      "cell_type": "code",
      "source": [
        "top3_words = get_top_n3_words(data[\"Review\"],n = 200)\n",
        "top3_df = pd.DataFrame(top3_words)\n",
        "top3_df.columns = [\"Tri-Gram\" , \"Freq\"]\n",
        "top3_df.head()"
      ],
      "metadata": {
        "colab": {
          "base_uri": "https://localhost:8080/",
          "height": 206
        },
        "id": "_J85d_5VDcUU",
        "outputId": "2addfcc8-bd83-426c-bfa8-16d89cea2ecc"
      },
      "execution_count": 37,
      "outputs": [
        {
          "output_type": "execute_result",
          "data": {
            "text/plain": [
              "                 Tri-Gram  Freq\n",
              "0  staff friendly helpful   767\n",
              "1    hotel great location   552\n",
              "2            old san juan   364\n",
              "3  highly recommend hotel   321\n",
              "4        great place stay   281"
            ],
            "text/html": [
              "\n",
              "  <div id=\"df-0bfc4202-bb4c-4e0d-8e5c-9cbb5d293990\">\n",
              "    <div class=\"colab-df-container\">\n",
              "      <div>\n",
              "<style scoped>\n",
              "    .dataframe tbody tr th:only-of-type {\n",
              "        vertical-align: middle;\n",
              "    }\n",
              "\n",
              "    .dataframe tbody tr th {\n",
              "        vertical-align: top;\n",
              "    }\n",
              "\n",
              "    .dataframe thead th {\n",
              "        text-align: right;\n",
              "    }\n",
              "</style>\n",
              "<table border=\"1\" class=\"dataframe\">\n",
              "  <thead>\n",
              "    <tr style=\"text-align: right;\">\n",
              "      <th></th>\n",
              "      <th>Tri-Gram</th>\n",
              "      <th>Freq</th>\n",
              "    </tr>\n",
              "  </thead>\n",
              "  <tbody>\n",
              "    <tr>\n",
              "      <th>0</th>\n",
              "      <td>staff friendly helpful</td>\n",
              "      <td>767</td>\n",
              "    </tr>\n",
              "    <tr>\n",
              "      <th>1</th>\n",
              "      <td>hotel great location</td>\n",
              "      <td>552</td>\n",
              "    </tr>\n",
              "    <tr>\n",
              "      <th>2</th>\n",
              "      <td>old san juan</td>\n",
              "      <td>364</td>\n",
              "    </tr>\n",
              "    <tr>\n",
              "      <th>3</th>\n",
              "      <td>highly recommend hotel</td>\n",
              "      <td>321</td>\n",
              "    </tr>\n",
              "    <tr>\n",
              "      <th>4</th>\n",
              "      <td>great place stay</td>\n",
              "      <td>281</td>\n",
              "    </tr>\n",
              "  </tbody>\n",
              "</table>\n",
              "</div>\n",
              "      <button class=\"colab-df-convert\" onclick=\"convertToInteractive('df-0bfc4202-bb4c-4e0d-8e5c-9cbb5d293990')\"\n",
              "              title=\"Convert this dataframe to an interactive table.\"\n",
              "              style=\"display:none;\">\n",
              "        \n",
              "  <svg xmlns=\"http://www.w3.org/2000/svg\" height=\"24px\"viewBox=\"0 0 24 24\"\n",
              "       width=\"24px\">\n",
              "    <path d=\"M0 0h24v24H0V0z\" fill=\"none\"/>\n",
              "    <path d=\"M18.56 5.44l.94 2.06.94-2.06 2.06-.94-2.06-.94-.94-2.06-.94 2.06-2.06.94zm-11 1L8.5 8.5l.94-2.06 2.06-.94-2.06-.94L8.5 2.5l-.94 2.06-2.06.94zm10 10l.94 2.06.94-2.06 2.06-.94-2.06-.94-.94-2.06-.94 2.06-2.06.94z\"/><path d=\"M17.41 7.96l-1.37-1.37c-.4-.4-.92-.59-1.43-.59-.52 0-1.04.2-1.43.59L10.3 9.45l-7.72 7.72c-.78.78-.78 2.05 0 2.83L4 21.41c.39.39.9.59 1.41.59.51 0 1.02-.2 1.41-.59l7.78-7.78 2.81-2.81c.8-.78.8-2.07 0-2.86zM5.41 20L4 18.59l7.72-7.72 1.47 1.35L5.41 20z\"/>\n",
              "  </svg>\n",
              "      </button>\n",
              "      \n",
              "  <style>\n",
              "    .colab-df-container {\n",
              "      display:flex;\n",
              "      flex-wrap:wrap;\n",
              "      gap: 12px;\n",
              "    }\n",
              "\n",
              "    .colab-df-convert {\n",
              "      background-color: #E8F0FE;\n",
              "      border: none;\n",
              "      border-radius: 50%;\n",
              "      cursor: pointer;\n",
              "      display: none;\n",
              "      fill: #1967D2;\n",
              "      height: 32px;\n",
              "      padding: 0 0 0 0;\n",
              "      width: 32px;\n",
              "    }\n",
              "\n",
              "    .colab-df-convert:hover {\n",
              "      background-color: #E2EBFA;\n",
              "      box-shadow: 0px 1px 2px rgba(60, 64, 67, 0.3), 0px 1px 3px 1px rgba(60, 64, 67, 0.15);\n",
              "      fill: #174EA6;\n",
              "    }\n",
              "\n",
              "    [theme=dark] .colab-df-convert {\n",
              "      background-color: #3B4455;\n",
              "      fill: #D2E3FC;\n",
              "    }\n",
              "\n",
              "    [theme=dark] .colab-df-convert:hover {\n",
              "      background-color: #434B5C;\n",
              "      box-shadow: 0px 1px 3px 1px rgba(0, 0, 0, 0.15);\n",
              "      filter: drop-shadow(0px 1px 2px rgba(0, 0, 0, 0.3));\n",
              "      fill: #FFFFFF;\n",
              "    }\n",
              "  </style>\n",
              "\n",
              "      <script>\n",
              "        const buttonEl =\n",
              "          document.querySelector('#df-0bfc4202-bb4c-4e0d-8e5c-9cbb5d293990 button.colab-df-convert');\n",
              "        buttonEl.style.display =\n",
              "          google.colab.kernel.accessAllowed ? 'block' : 'none';\n",
              "\n",
              "        async function convertToInteractive(key) {\n",
              "          const element = document.querySelector('#df-0bfc4202-bb4c-4e0d-8e5c-9cbb5d293990');\n",
              "          const dataTable =\n",
              "            await google.colab.kernel.invokeFunction('convertToInteractive',\n",
              "                                                     [key], {});\n",
              "          if (!dataTable) return;\n",
              "\n",
              "          const docLinkHtml = 'Like what you see? Visit the ' +\n",
              "            '<a target=\"_blank\" href=https://colab.research.google.com/notebooks/data_table.ipynb>data table notebook</a>'\n",
              "            + ' to learn more about interactive tables.';\n",
              "          element.innerHTML = '';\n",
              "          dataTable['output_type'] = 'display_data';\n",
              "          await google.colab.output.renderOutput(dataTable, element);\n",
              "          const docLink = document.createElement('div');\n",
              "          docLink.innerHTML = docLinkHtml;\n",
              "          element.appendChild(docLink);\n",
              "        }\n",
              "      </script>\n",
              "    </div>\n",
              "  </div>\n",
              "  "
            ]
          },
          "metadata": {},
          "execution_count": 37
        }
      ]
    },
    {
      "cell_type": "code",
      "source": [
        "# Tri-Gram PLot\n",
        "import seaborn as sns\n",
        "top20_trigram = top3_df.iloc[0:20,:]\n",
        "fig = plt.figure(figsize = (20,9))\n",
        "plot = sns.barplot(x =top20_trigram[\"Tri-Gram\"],y = top20_trigram[\"Freq\"])\n",
        "plot.set_xticklabels(rotation = 45,labels=top20_trigram[\"Tri-Gram\"])\n",
        "plt.show()"
      ],
      "metadata": {
        "colab": {
          "base_uri": "https://localhost:8080/",
          "height": 635
        },
        "id": "wOLW3FeoEWij",
        "outputId": "12fac710-9b1a-404c-88ba-7d2290a66e6a"
      },
      "execution_count": 38,
      "outputs": [
        {
          "output_type": "display_data",
          "data": {
            "text/plain": [
              "<Figure size 1440x648 with 1 Axes>"
            ],
            "image/png": "[encoded data removed]"
          },
          "metadata": {
            "needs_background": "light"
          }
        }
      ]
    },
    {
      "cell_type": "markdown",
      "metadata": {
        "id": "DosTV5jnqR0u"
      },
      "source": [
        "# Sentiment analysis "
      ]
    },
    {
      "cell_type": "code",
      "execution_count": 39,
      "metadata": {
        "id": "Os6lekGpbq6E"
      },
      "outputs": [],
      "source": [
        "#!pip install textblob"
      ]
    },
    {
      "cell_type": "code",
      "execution_count": 40,
      "metadata": {
        "id": "SJRfP1srsha9"
      },
      "outputs": [],
      "source": [
        "\n",
        "from textblob import TextBlob\n",
        "import matplotlib.pyplot  as plt\n",
        "import seaborn as sns"
      ]
    },
    {
      "cell_type": "code",
      "execution_count": 41,
      "metadata": {
        "colab": {
          "base_uri": "https://localhost:8080/",
          "height": 641
        },
        "id": "e6xpRJqosiUB",
        "outputId": "60840cf3-8a17-497c-9ab3-eb1cbfbf4960"
      },
      "outputs": [
        {
          "output_type": "execute_result",
          "data": {
            "text/plain": [
              "                                                  Review  Rating  \\\n",
              "0      nice hotel expensive parking got good deal sta...       4   \n",
              "1      ok nothing special charge diamond member hilto...       2   \n",
              "2      nice rooms not 4* experience hotel monaco seat...       3   \n",
              "3      unique, great stay, wonderful time hotel monac...       5   \n",
              "4      great stay great stay, went seahawk game aweso...       5   \n",
              "...                                                  ...     ...   \n",
              "20486  best kept secret 3rd time staying charm, not 5...       5   \n",
              "20487  great location price view hotel great quick pl...       4   \n",
              "20488  ok just looks nice modern outside, desk staff ...       2   \n",
              "20489  hotel theft ruined vacation hotel opened sept ...       1   \n",
              "20490  people talking, ca n't believe excellent ratin...       2   \n",
              "\n",
              "       num_characters  num_words  num_sentences  \\\n",
              "0                 593         98              1   \n",
              "1                1689        270              1   \n",
              "2                1427        236              2   \n",
              "3                 600        102              1   \n",
              "4                1281        224              1   \n",
              "...               ...        ...            ...   \n",
              "20486             733        121              1   \n",
              "20487             306         40              1   \n",
              "20488             443         70              1   \n",
              "20489            5557        836              1   \n",
              "20490             620        102              1   \n",
              "\n",
              "                                          cleaned_review  \\\n",
              "0      nice hotel expensive parking got good deal sta...   \n",
              "1      nothing special charge diamond member hilton d...   \n",
              "2      nice room experience hotel monaco seattle good...   \n",
              "3      unique great stay wonderful time hotel monaco ...   \n",
              "4      great stay great stay went seahawk game awesom...   \n",
              "...                                                  ...   \n",
              "20486  best kept secret time staying charm star beat ...   \n",
              "20487  great location price view hotel great quick pl...   \n",
              "20488  look nice modern outside desk staff particular...   \n",
              "20489  hotel theft ruined vacation hotel opened sept ...   \n",
              "20490  people talking believe excellent rating hotel ...   \n",
              "\n",
              "                                      lemmatized_content  sentiment  \n",
              "0      [nice, hotel, expensive, parking, got, good, d...   0.208744  \n",
              "1      [nothing, special, charge, diamond, member, hi...   0.238948  \n",
              "2      [nice, room, experience, hotel, monaco, seattl...   0.266138  \n",
              "3      [unique, great, stay, wonderful, time, hotel, ...   0.504825  \n",
              "4      [great, stay, great, stay, went, seahawk, game...   0.469643  \n",
              "...                                                  ...        ...  \n",
              "20486  [best, kept, secret, time, staying, charm, sta...   0.209229  \n",
              "20487  [great, location, price, view, hotel, great, q...   0.463333  \n",
              "20488  [look, nice, modern, outside, desk, staff, par...   0.145929  \n",
              "20489  [hotel, theft, ruined, vacation, hotel, opened...   0.145881  \n",
              "20490  [people, talking, believe, excellent, rating, ...   0.110615  \n",
              "\n",
              "[20491 rows x 8 columns]"
            ],
            "text/html": [
              "\n",
              "  <div id=\"df-a33c81aa-c3f5-479a-ba43-13193166f806\">\n",
              "    <div class=\"colab-df-container\">\n",
              "      <div>\n",
              "<style scoped>\n",
              "    .dataframe tbody tr th:only-of-type {\n",
              "        vertical-align: middle;\n",
              "    }\n",
              "\n",
              "    .dataframe tbody tr th {\n",
              "        vertical-align: top;\n",
              "    }\n",
              "\n",
              "    .dataframe thead th {\n",
              "        text-align: right;\n",
              "    }\n",
              "</style>\n",
              "<table border=\"1\" class=\"dataframe\">\n",
              "  <thead>\n",
              "    <tr style=\"text-align: right;\">\n",
              "      <th></th>\n",
              "      <th>Review</th>\n",
              "      <th>Rating</th>\n",
              "      <th>num_characters</th>\n",
              "      <th>num_words</th>\n",
              "      <th>num_sentences</th>\n",
              "      <th>cleaned_review</th>\n",
              "      <th>lemmatized_content</th>\n",
              "      <th>sentiment</th>\n",
              "    </tr>\n",
              "  </thead>\n",
              "  <tbody>\n",
              "    <tr>\n",
              "      <th>0</th>\n",
              "      <td>nice hotel expensive parking got good deal sta...</td>\n",
              "      <td>4</td>\n",
              "      <td>593</td>\n",
              "      <td>98</td>\n",
              "      <td>1</td>\n",
              "      <td>nice hotel expensive parking got good deal sta...</td>\n",
              "      <td>[nice, hotel, expensive, parking, got, good, d...</td>\n",
              "      <td>0.208744</td>\n",
              "    </tr>\n",
              "    <tr>\n",
              "      <th>1</th>\n",
              "      <td>ok nothing special charge diamond member hilto...</td>\n",
              "      <td>2</td>\n",
              "      <td>1689</td>\n",
              "      <td>270</td>\n",
              "      <td>1</td>\n",
              "      <td>nothing special charge diamond member hilton d...</td>\n",
              "      <td>[nothing, special, charge, diamond, member, hi...</td>\n",
              "      <td>0.238948</td>\n",
              "    </tr>\n",
              "    <tr>\n",
              "      <th>2</th>\n",
              "      <td>nice rooms not 4* experience hotel monaco seat...</td>\n",
              "      <td>3</td>\n",
              "      <td>1427</td>\n",
              "      <td>236</td>\n",
              "      <td>2</td>\n",
              "      <td>nice room experience hotel monaco seattle good...</td>\n",
              "      <td>[nice, room, experience, hotel, monaco, seattl...</td>\n",
              "      <td>0.266138</td>\n",
              "    </tr>\n",
              "    <tr>\n",
              "      <th>3</th>\n",
              "      <td>unique, great stay, wonderful time hotel monac...</td>\n",
              "      <td>5</td>\n",
              "      <td>600</td>\n",
              "      <td>102</td>\n",
              "      <td>1</td>\n",
              "      <td>unique great stay wonderful time hotel monaco ...</td>\n",
              "      <td>[unique, great, stay, wonderful, time, hotel, ...</td>\n",
              "      <td>0.504825</td>\n",
              "    </tr>\n",
              "    <tr>\n",
              "      <th>4</th>\n",
              "      <td>great stay great stay, went seahawk game aweso...</td>\n",
              "      <td>5</td>\n",
              "      <td>1281</td>\n",
              "      <td>224</td>\n",
              "      <td>1</td>\n",
              "      <td>great stay great stay went seahawk game awesom...</td>\n",
              "      <td>[great, stay, great, stay, went, seahawk, game...</td>\n",
              "      <td>0.469643</td>\n",
              "    </tr>\n",
              "    <tr>\n",
              "      <th>...</th>\n",
              "      <td>...</td>\n",
              "      <td>...</td>\n",
              "      <td>...</td>\n",
              "      <td>...</td>\n",
              "      <td>...</td>\n",
              "      <td>...</td>\n",
              "      <td>...</td>\n",
              "      <td>...</td>\n",
              "    </tr>\n",
              "    <tr>\n",
              "      <th>20486</th>\n",
              "      <td>best kept secret 3rd time staying charm, not 5...</td>\n",
              "      <td>5</td>\n",
              "      <td>733</td>\n",
              "      <td>121</td>\n",
              "      <td>1</td>\n",
              "      <td>best kept secret time staying charm star beat ...</td>\n",
              "      <td>[best, kept, secret, time, staying, charm, sta...</td>\n",
              "      <td>0.209229</td>\n",
              "    </tr>\n",
              "    <tr>\n",
              "      <th>20487</th>\n",
              "      <td>great location price view hotel great quick pl...</td>\n",
              "      <td>4</td>\n",
              "      <td>306</td>\n",
              "      <td>40</td>\n",
              "      <td>1</td>\n",
              "      <td>great location price view hotel great quick pl...</td>\n",
              "      <td>[great, location, price, view, hotel, great, q...</td>\n",
              "      <td>0.463333</td>\n",
              "    </tr>\n",
              "    <tr>\n",
              "      <th>20488</th>\n",
              "      <td>ok just looks nice modern outside, desk staff ...</td>\n",
              "      <td>2</td>\n",
              "      <td>443</td>\n",
              "      <td>70</td>\n",
              "      <td>1</td>\n",
              "      <td>look nice modern outside desk staff particular...</td>\n",
              "      <td>[look, nice, modern, outside, desk, staff, par...</td>\n",
              "      <td>0.145929</td>\n",
              "    </tr>\n",
              "    <tr>\n",
              "      <th>20489</th>\n",
              "      <td>hotel theft ruined vacation hotel opened sept ...</td>\n",
              "      <td>1</td>\n",
              "      <td>5557</td>\n",
              "      <td>836</td>\n",
              "      <td>1</td>\n",
              "      <td>hotel theft ruined vacation hotel opened sept ...</td>\n",
              "      <td>[hotel, theft, ruined, vacation, hotel, opened...</td>\n",
              "      <td>0.145881</td>\n",
              "    </tr>\n",
              "    <tr>\n",
              "      <th>20490</th>\n",
              "      <td>people talking, ca n't believe excellent ratin...</td>\n",
              "      <td>2</td>\n",
              "      <td>620</td>\n",
              "      <td>102</td>\n",
              "      <td>1</td>\n",
              "      <td>people talking believe excellent rating hotel ...</td>\n",
              "      <td>[people, talking, believe, excellent, rating, ...</td>\n",
              "      <td>0.110615</td>\n",
              "    </tr>\n",
              "  </tbody>\n",
              "</table>\n",
              "<p>20491 rows × 8 columns</p>\n",
              "</div>\n",
              "      <button class=\"colab-df-convert\" onclick=\"convertToInteractive('df-a33c81aa-c3f5-479a-ba43-13193166f806')\"\n",
              "              title=\"Convert this dataframe to an interactive table.\"\n",
              "              style=\"display:none;\">\n",
              "        \n",
              "  <svg xmlns=\"http://www.w3.org/2000/svg\" height=\"24px\"viewBox=\"0 0 24 24\"\n",
              "       width=\"24px\">\n",
              "    <path d=\"M0 0h24v24H0V0z\" fill=\"none\"/>\n",
              "    <path d=\"M18.56 5.44l.94 2.06.94-2.06 2.06-.94-2.06-.94-.94-2.06-.94 2.06-2.06.94zm-11 1L8.5 8.5l.94-2.06 2.06-.94-2.06-.94L8.5 2.5l-.94 2.06-2.06.94zm10 10l.94 2.06.94-2.06 2.06-.94-2.06-.94-.94-2.06-.94 2.06-2.06.94z\"/><path d=\"M17.41 7.96l-1.37-1.37c-.4-.4-.92-.59-1.43-.59-.52 0-1.04.2-1.43.59L10.3 9.45l-7.72 7.72c-.78.78-.78 2.05 0 2.83L4 21.41c.39.39.9.59 1.41.59.51 0 1.02-.2 1.41-.59l7.78-7.78 2.81-2.81c.8-.78.8-2.07 0-2.86zM5.41 20L4 18.59l7.72-7.72 1.47 1.35L5.41 20z\"/>\n",
              "  </svg>\n",
              "      </button>\n",
              "      \n",
              "  <style>\n",
              "    .colab-df-container {\n",
              "      display:flex;\n",
              "      flex-wrap:wrap;\n",
              "      gap: 12px;\n",
              "    }\n",
              "\n",
              "    .colab-df-convert {\n",
              "      background-color: #E8F0FE;\n",
              "      border: none;\n",
              "      border-radius: 50%;\n",
              "      cursor: pointer;\n",
              "      display: none;\n",
              "      fill: #1967D2;\n",
              "      height: 32px;\n",
              "      padding: 0 0 0 0;\n",
              "      width: 32px;\n",
              "    }\n",
              "\n",
              "    .colab-df-convert:hover {\n",
              "      background-color: #E2EBFA;\n",
              "      box-shadow: 0px 1px 2px rgba(60, 64, 67, 0.3), 0px 1px 3px 1px rgba(60, 64, 67, 0.15);\n",
              "      fill: #174EA6;\n",
              "    }\n",
              "\n",
              "    [theme=dark] .colab-df-convert {\n",
              "      background-color: #3B4455;\n",
              "      fill: #D2E3FC;\n",
              "    }\n",
              "\n",
              "    [theme=dark] .colab-df-convert:hover {\n",
              "      background-color: #434B5C;\n",
              "      box-shadow: 0px 1px 3px 1px rgba(0, 0, 0, 0.15);\n",
              "      filter: drop-shadow(0px 1px 2px rgba(0, 0, 0, 0.3));\n",
              "      fill: #FFFFFF;\n",
              "    }\n",
              "  </style>\n",
              "\n",
              "      <script>\n",
              "        const buttonEl =\n",
              "          document.querySelector('#df-a33c81aa-c3f5-479a-ba43-13193166f806 button.colab-df-convert');\n",
              "        buttonEl.style.display =\n",
              "          google.colab.kernel.accessAllowed ? 'block' : 'none';\n",
              "\n",
              "        async function convertToInteractive(key) {\n",
              "          const element = document.querySelector('#df-a33c81aa-c3f5-479a-ba43-13193166f806');\n",
              "          const dataTable =\n",
              "            await google.colab.kernel.invokeFunction('convertToInteractive',\n",
              "                                                     [key], {});\n",
              "          if (!dataTable) return;\n",
              "\n",
              "          const docLinkHtml = 'Like what you see? Visit the ' +\n",
              "            '<a target=\"_blank\" href=https://colab.research.google.com/notebooks/data_table.ipynb>data table notebook</a>'\n",
              "            + ' to learn more about interactive tables.';\n",
              "          element.innerHTML = '';\n",
              "          dataTable['output_type'] = 'display_data';\n",
              "          await google.colab.output.renderOutput(dataTable, element);\n",
              "          const docLink = document.createElement('div');\n",
              "          docLink.innerHTML = docLinkHtml;\n",
              "          element.appendChild(docLink);\n",
              "        }\n",
              "      </script>\n",
              "    </div>\n",
              "  </div>\n",
              "  "
            ]
          },
          "metadata": {},
          "execution_count": 41
        }
      ],
      "source": [
        "data['sentiment']=data['cleaned_review'].apply(lambda x : TextBlob(x).sentiment.polarity)\n",
        "data"
      ]
    },
    {
      "cell_type": "code",
      "execution_count": 42,
      "metadata": {
        "id": "2JngaypdxHoO"
      },
      "outputs": [],
      "source": [
        "def assign_Result(ratings):\n",
        "    if ratings < 0:\n",
        "        result = 'negative'\n",
        "    elif ratings >= 0:\n",
        "        result = 'positive'\n",
        "\n",
        "    return result"
      ]
    },
    {
      "cell_type": "code",
      "execution_count": 43,
      "metadata": {
        "colab": {
          "base_uri": "https://localhost:8080/",
          "height": 337
        },
        "id": "o4kKSQVIxP1S",
        "outputId": "8a5072ac-3a5d-4c74-b3f0-5d468c918043"
      },
      "outputs": [
        {
          "output_type": "execute_result",
          "data": {
            "text/plain": [
              "                                              Review  Rating  num_characters  \\\n",
              "0  nice hotel expensive parking got good deal sta...       4             593   \n",
              "1  ok nothing special charge diamond member hilto...       2            1689   \n",
              "2  nice rooms not 4* experience hotel monaco seat...       3            1427   \n",
              "3  unique, great stay, wonderful time hotel monac...       5             600   \n",
              "4  great stay great stay, went seahawk game aweso...       5            1281   \n",
              "\n",
              "   num_words  num_sentences  \\\n",
              "0         98              1   \n",
              "1        270              1   \n",
              "2        236              2   \n",
              "3        102              1   \n",
              "4        224              1   \n",
              "\n",
              "                                      cleaned_review  \\\n",
              "0  nice hotel expensive parking got good deal sta...   \n",
              "1  nothing special charge diamond member hilton d...   \n",
              "2  nice room experience hotel monaco seattle good...   \n",
              "3  unique great stay wonderful time hotel monaco ...   \n",
              "4  great stay great stay went seahawk game awesom...   \n",
              "\n",
              "                                  lemmatized_content  sentiment review_segment  \n",
              "0  [nice, hotel, expensive, parking, got, good, d...   0.208744       positive  \n",
              "1  [nothing, special, charge, diamond, member, hi...   0.238948       positive  \n",
              "2  [nice, room, experience, hotel, monaco, seattl...   0.266138       positive  \n",
              "3  [unique, great, stay, wonderful, time, hotel, ...   0.504825       positive  \n",
              "4  [great, stay, great, stay, went, seahawk, game...   0.469643       positive  "
            ],
            "text/html": [
              "\n",
              "  <div id=\"df-6154f1ed-49a8-455d-ba6b-22e13fbec2fe\">\n",
              "    <div class=\"colab-df-container\">\n",
              "      <div>\n",
              "<style scoped>\n",
              "    .dataframe tbody tr th:only-of-type {\n",
              "        vertical-align: middle;\n",
              "    }\n",
              "\n",
              "    .dataframe tbody tr th {\n",
              "        vertical-align: top;\n",
              "    }\n",
              "\n",
              "    .dataframe thead th {\n",
              "        text-align: right;\n",
              "    }\n",
              "</style>\n",
              "<table border=\"1\" class=\"dataframe\">\n",
              "  <thead>\n",
              "    <tr style=\"text-align: right;\">\n",
              "      <th></th>\n",
              "      <th>Review</th>\n",
              "      <th>Rating</th>\n",
              "      <th>num_characters</th>\n",
              "      <th>num_words</th>\n",
              "      <th>num_sentences</th>\n",
              "      <th>cleaned_review</th>\n",
              "      <th>lemmatized_content</th>\n",
              "      <th>sentiment</th>\n",
              "      <th>review_segment</th>\n",
              "    </tr>\n",
              "  </thead>\n",
              "  <tbody>\n",
              "    <tr>\n",
              "      <th>0</th>\n",
              "      <td>nice hotel expensive parking got good deal sta...</td>\n",
              "      <td>4</td>\n",
              "      <td>593</td>\n",
              "      <td>98</td>\n",
              "      <td>1</td>\n",
              "      <td>nice hotel expensive parking got good deal sta...</td>\n",
              "      <td>[nice, hotel, expensive, parking, got, good, d...</td>\n",
              "      <td>0.208744</td>\n",
              "      <td>positive</td>\n",
              "    </tr>\n",
              "    <tr>\n",
              "      <th>1</th>\n",
              "      <td>ok nothing special charge diamond member hilto...</td>\n",
              "      <td>2</td>\n",
              "      <td>1689</td>\n",
              "      <td>270</td>\n",
              "      <td>1</td>\n",
              "      <td>nothing special charge diamond member hilton d...</td>\n",
              "      <td>[nothing, special, charge, diamond, member, hi...</td>\n",
              "      <td>0.238948</td>\n",
              "      <td>positive</td>\n",
              "    </tr>\n",
              "    <tr>\n",
              "      <th>2</th>\n",
              "      <td>nice rooms not 4* experience hotel monaco seat...</td>\n",
              "      <td>3</td>\n",
              "      <td>1427</td>\n",
              "      <td>236</td>\n",
              "      <td>2</td>\n",
              "      <td>nice room experience hotel monaco seattle good...</td>\n",
              "      <td>[nice, room, experience, hotel, monaco, seattl...</td>\n",
              "      <td>0.266138</td>\n",
              "      <td>positive</td>\n",
              "    </tr>\n",
              "    <tr>\n",
              "      <th>3</th>\n",
              "      <td>unique, great stay, wonderful time hotel monac...</td>\n",
              "      <td>5</td>\n",
              "      <td>600</td>\n",
              "      <td>102</td>\n",
              "      <td>1</td>\n",
              "      <td>unique great stay wonderful time hotel monaco ...</td>\n",
              "      <td>[unique, great, stay, wonderful, time, hotel, ...</td>\n",
              "      <td>0.504825</td>\n",
              "      <td>positive</td>\n",
              "    </tr>\n",
              "    <tr>\n",
              "      <th>4</th>\n",
              "      <td>great stay great stay, went seahawk game aweso...</td>\n",
              "      <td>5</td>\n",
              "      <td>1281</td>\n",
              "      <td>224</td>\n",
              "      <td>1</td>\n",
              "      <td>great stay great stay went seahawk game awesom...</td>\n",
              "      <td>[great, stay, great, stay, went, seahawk, game...</td>\n",
              "      <td>0.469643</td>\n",
              "      <td>positive</td>\n",
              "    </tr>\n",
              "  </tbody>\n",
              "</table>\n",
              "</div>\n",
              "      <button class=\"colab-df-convert\" onclick=\"convertToInteractive('df-6154f1ed-49a8-455d-ba6b-22e13fbec2fe')\"\n",
              "              title=\"Convert this dataframe to an interactive table.\"\n",
              "              style=\"display:none;\">\n",
              "        \n",
              "  <svg xmlns=\"http://www.w3.org/2000/svg\" height=\"24px\"viewBox=\"0 0 24 24\"\n",
              "       width=\"24px\">\n",
              "    <path d=\"M0 0h24v24H0V0z\" fill=\"none\"/>\n",
              "    <path d=\"M18.56 5.44l.94 2.06.94-2.06 2.06-.94-2.06-.94-.94-2.06-.94 2.06-2.06.94zm-11 1L8.5 8.5l.94-2.06 2.06-.94-2.06-.94L8.5 2.5l-.94 2.06-2.06.94zm10 10l.94 2.06.94-2.06 2.06-.94-2.06-.94-.94-2.06-.94 2.06-2.06.94z\"/><path d=\"M17.41 7.96l-1.37-1.37c-.4-.4-.92-.59-1.43-.59-.52 0-1.04.2-1.43.59L10.3 9.45l-7.72 7.72c-.78.78-.78 2.05 0 2.83L4 21.41c.39.39.9.59 1.41.59.51 0 1.02-.2 1.41-.59l7.78-7.78 2.81-2.81c.8-.78.8-2.07 0-2.86zM5.41 20L4 18.59l7.72-7.72 1.47 1.35L5.41 20z\"/>\n",
              "  </svg>\n",
              "      </button>\n",
              "      \n",
              "  <style>\n",
              "    .colab-df-container {\n",
              "      display:flex;\n",
              "      flex-wrap:wrap;\n",
              "      gap: 12px;\n",
              "    }\n",
              "\n",
              "    .colab-df-convert {\n",
              "      background-color: #E8F0FE;\n",
              "      border: none;\n",
              "      border-radius: 50%;\n",
              "      cursor: pointer;\n",
              "      display: none;\n",
              "      fill: #1967D2;\n",
              "      height: 32px;\n",
              "      padding: 0 0 0 0;\n",
              "      width: 32px;\n",
              "    }\n",
              "\n",
              "    .colab-df-convert:hover {\n",
              "      background-color: #E2EBFA;\n",
              "      box-shadow: 0px 1px 2px rgba(60, 64, 67, 0.3), 0px 1px 3px 1px rgba(60, 64, 67, 0.15);\n",
              "      fill: #174EA6;\n",
              "    }\n",
              "\n",
              "    [theme=dark] .colab-df-convert {\n",
              "      background-color: #3B4455;\n",
              "      fill: #D2E3FC;\n",
              "    }\n",
              "\n",
              "    [theme=dark] .colab-df-convert:hover {\n",
              "      background-color: #434B5C;\n",
              "      box-shadow: 0px 1px 3px 1px rgba(0, 0, 0, 0.15);\n",
              "      filter: drop-shadow(0px 1px 2px rgba(0, 0, 0, 0.3));\n",
              "      fill: #FFFFFF;\n",
              "    }\n",
              "  </style>\n",
              "\n",
              "      <script>\n",
              "        const buttonEl =\n",
              "          document.querySelector('#df-6154f1ed-49a8-455d-ba6b-22e13fbec2fe button.colab-df-convert');\n",
              "        buttonEl.style.display =\n",
              "          google.colab.kernel.accessAllowed ? 'block' : 'none';\n",
              "\n",
              "        async function convertToInteractive(key) {\n",
              "          const element = document.querySelector('#df-6154f1ed-49a8-455d-ba6b-22e13fbec2fe');\n",
              "          const dataTable =\n",
              "            await google.colab.kernel.invokeFunction('convertToInteractive',\n",
              "                                                     [key], {});\n",
              "          if (!dataTable) return;\n",
              "\n",
              "          const docLinkHtml = 'Like what you see? Visit the ' +\n",
              "            '<a target=\"_blank\" href=https://colab.research.google.com/notebooks/data_table.ipynb>data table notebook</a>'\n",
              "            + ' to learn more about interactive tables.';\n",
              "          element.innerHTML = '';\n",
              "          dataTable['output_type'] = 'display_data';\n",
              "          await google.colab.output.renderOutput(dataTable, element);\n",
              "          const docLink = document.createElement('div');\n",
              "          docLink.innerHTML = docLinkHtml;\n",
              "          element.appendChild(docLink);\n",
              "        }\n",
              "      </script>\n",
              "    </div>\n",
              "  </div>\n",
              "  "
            ]
          },
          "metadata": {},
          "execution_count": 43
        }
      ],
      "source": [
        "data['review_segment']=data['sentiment'].apply(assign_Result)\n",
        "data.head()"
      ]
    },
    {
      "cell_type": "markdown",
      "source": [
        "# Data Preprocessing and visualization"
      ],
      "metadata": {
        "id": "DntZA--7xnVa"
      }
    },
    {
      "cell_type": "code",
      "execution_count": 44,
      "metadata": {
        "colab": {
          "base_uri": "https://localhost:8080/",
          "height": 0
        },
        "id": "AEdQbZoRxX9Y",
        "outputId": "7b814f81-fec7-4c47-dc3f-db11c0f75277"
      },
      "outputs": [
        {
          "output_type": "display_data",
          "data": {
            "text/plain": [
              "<Figure size 576x432 with 1 Axes>"
            ],
            "image/png": "[encoded data removed]"
          },
          "metadata": {
            "needs_background": "light"
          }
        }
      ],
      "source": [
        "from six import text_type\n",
        "x=data['review_segment'].value_counts()\n",
        "plt.figure(figsize=(8,6))\n",
        "sns.barplot(x.index,x.values)\n",
        "plt.title('Result Distribution ')\n",
        "plt.ylabel('Frequency', fontsize=10)\n",
        "plt.yticks(fontsize=10)\n",
        "plt.xlabel('Hotel reviews', fontsize=10)\n",
        "plt.xticks(fontsize=10)\n",
        "plt.show()"
      ]
    },
    {
      "cell_type": "code",
      "execution_count": 45,
      "metadata": {
        "colab": {
          "base_uri": "https://localhost:8080/",
          "height": 0
        },
        "id": "Xxq6C7x0xtvf",
        "outputId": "3f750183-a41d-4b8f-80b0-d67caa041920"
      },
      "outputs": [
        {
          "output_type": "display_data",
          "data": {
            "text/plain": [
              "<Figure size 720x504 with 1 Axes>"
            ],
            "image/png": "[encoded data removed]"
          },
          "metadata": {}
        }
      ],
      "source": [
        "plt.figure(figsize=(10,7))\n",
        "data['review_segment'].value_counts().plot(kind='pie',autopct='%1.0f%%')\n",
        "plt.show()"
      ]
    },
    {
      "cell_type": "markdown",
      "source": [
        "**Note**\n",
        "the data look imbalanced"
      ],
      "metadata": {
        "id": "czbso1ITsSYt"
      }
    },
    {
      "cell_type": "code",
      "execution_count": 46,
      "metadata": {
        "colab": {
          "base_uri": "https://localhost:8080/"
        },
        "id": "tod2OYGpyUkM",
        "outputId": "72fd4e5c-193b-481d-a17b-38a40af493a2"
      },
      "outputs": [
        {
          "output_type": "execute_result",
          "data": {
            "text/plain": [
              "0         543\n",
              "1        1539\n",
              "2        1264\n",
              "3         557\n",
              "4        1150\n",
              "         ... \n",
              "20486     666\n",
              "20487     294\n",
              "20488     406\n",
              "20489    5157\n",
              "20490     565\n",
              "Name: result_len, Length: 20491, dtype: int64"
            ]
          },
          "metadata": {},
          "execution_count": 46
        }
      ],
      "source": [
        "# most common words\n",
        "tokenizer = RegexpTokenizer(r'\\w+')\n",
        "data['word_count'] = data['cleaned_review'].apply(lambda x: len(str(x).split()))\n",
        "data['result_len'] = data['cleaned_review'].astype(str).apply(len)\n",
        "data['result_len']"
      ]
    },
    {
      "cell_type": "code",
      "execution_count": 47,
      "metadata": {
        "colab": {
          "base_uri": "https://localhost:8080/",
          "height": 0
        },
        "id": "S7G9MjBMyHpt",
        "outputId": "f0741151-2750-4b2c-c72e-4684740a234e"
      },
      "outputs": [
        {
          "output_type": "display_data",
          "data": {
            "text/plain": [
              "<Figure size 864x432 with 1 Axes>"
            ],
            "image/png": "[encoded data removed]"
          },
          "metadata": {
            "needs_background": "light"
          }
        }
      ],
      "source": [
        "data.groupby('Rating')['result_len'].mean().plot(kind='bar',figsize=(12,6))\n",
        "plt.xlabel('Result',fontsize=30)\n",
        "plt.ylabel('Count of Letters in Review')\n",
        "plt.title('Number of review length per Rating', fontsize=20)\n",
        "plt.show()"
      ]
    },
    {
      "cell_type": "code",
      "execution_count": 48,
      "metadata": {
        "colab": {
          "base_uri": "https://localhost:8080/",
          "height": 0
        },
        "id": "fZ28iGUI88iK",
        "outputId": "a5f3bf25-898d-49c1-86fa-ffead3d98066"
      },
      "outputs": [
        {
          "output_type": "display_data",
          "data": {
            "text/plain": [
              "<Figure size 720x432 with 1 Axes>"
            ],
            "image/png": "[encoded data removed]"
          },
          "metadata": {
            "needs_background": "light"
          }
        }
      ],
      "source": [
        "data.groupby('Rating')['word_count'].mean().plot(kind='bar',figsize=(10,6))\n",
        "plt.xlabel('Rating',fontsize=20)\n",
        "plt.ylabel('Count of Words in Result')\n",
        "plt.title('Number of words per Rating', fontsize=20)\n",
        "plt.show()"
      ]
    },
    {
      "cell_type": "code",
      "execution_count": 49,
      "metadata": {
        "colab": {
          "base_uri": "https://localhost:8080/"
        },
        "id": "gKyknp0zzTe4",
        "outputId": "c16b4893-378e-4829-9780-0dda86c81ba3"
      },
      "outputs": [
        {
          "output_type": "stream",
          "name": "stderr",
          "text": [
            "IOPub data rate exceeded.\n",
            "The notebook server will temporarily stop sending output\n",
            "to the client in order to avoid crashing it.\n",
            "To change this limit, set the config variable\n",
            "`--NotebookApp.iopub_data_rate_limit`.\n",
            "\n",
            "Current values:\n",
            "NotebookApp.iopub_data_rate_limit=1000000.0 (bytes/sec)\n",
            "NotebookApp.rate_limit_window=3.0 (secs)\n",
            "\n"
          ]
        }
      ],
      "source": [
        "words=data['lemmatized_content']\n",
        "allwords=[]\n",
        "for wordlist in words:\n",
        "    allwords+=wordlist\n",
        "print(allwords)\n",
        "print('length of all words : ',len(allwords))"
      ]
    },
    {
      "cell_type": "code",
      "execution_count": 50,
      "metadata": {
        "id": "kB82cM2Xzlwi"
      },
      "outputs": [],
      "source": [
        "from nltk.probability import FreqDist\n",
        "mostcommon=FreqDist(allwords).most_common(100)\n",
        "#mostcommon"
      ]
    },
    {
      "cell_type": "code",
      "execution_count": 51,
      "metadata": {
        "id": "jGVf5A0nbq6J"
      },
      "outputs": [],
      "source": [
        "#!pip install wordcloud"
      ]
    },
    {
      "cell_type": "code",
      "execution_count": 52,
      "metadata": {
        "colab": {
          "base_uri": "https://localhost:8080/",
          "height": 0
        },
        "id": "l4_Mp0zvzrfX",
        "outputId": "1776dd5c-6ac9-498f-bab3-c22c493ae511"
      },
      "outputs": [
        {
          "output_type": "display_data",
          "data": {
            "text/plain": [
              "<Figure size 864x504 with 1 Axes>"
            ],
            "image/png": "[encoded data removed]"
          },
          "metadata": {}
        }
      ],
      "source": [
        "#elements of their hotel influence more in forming a positive review\n",
        "from wordcloud import WordCloud, ImageColorGenerator\n",
        "wordcloud=WordCloud(width=1000, height=600, background_color='black').generate(str(mostcommon))\n",
        "fig = plt.figure(figsize=(12,7), facecolor='white')\n",
        "plt.title('Top 100 Most Common Words', fontsize=50)\n",
        "plt.axis('off')\n",
        "plt.imshow(wordcloud, interpolation=\"bilinear\")\n",
        "plt.tight_layout(pad=0)\n",
        "plt.show()"
      ]
    },
    {
      "cell_type": "code",
      "execution_count": 53,
      "metadata": {
        "colab": {
          "base_uri": "https://localhost:8080/"
        },
        "id": "fMUDYbpA0TYq",
        "outputId": "f519e76f-12e7-47f3-fecd-0bcbb24d79cb"
      },
      "outputs": [
        {
          "output_type": "execute_result",
          "data": {
            "text/plain": [
              "Rating\n",
              "1    [(room, 4294), (hotel, 4002), (stay, 1246), (d...\n",
              "2    [(room, 5772), (hotel, 4657), (night, 1618), (...\n",
              "3    [(room, 6128), (hotel, 5628), (good, 2523), (n...\n",
              "4    [(hotel, 15535), (room, 14238), (great, 7572),...\n",
              "5    [(hotel, 24164), (room, 17314), (great, 10886)...\n",
              "Name: cleaned_review, dtype: object"
            ]
          },
          "metadata": {},
          "execution_count": 53
        }
      ],
      "source": [
        "from collections import Counter\n",
        "mostfreq=data.groupby('Rating')['cleaned_review'].apply(lambda x : Counter(' '.join(x).split()).most_common(25))\n",
        "mostfreq"
      ]
    },
    {
      "cell_type": "code",
      "execution_count": 54,
      "metadata": {
        "colab": {
          "base_uri": "https://localhost:8080/",
          "height": 0
        },
        "id": "u6vdz2HIz14L",
        "outputId": "950ce6b2-9742-4623-e47a-3d158ca540ec"
      },
      "outputs": [
        {
          "output_type": "display_data",
          "data": {
            "text/plain": [
              "<Figure size 720x504 with 1 Axes>"
            ],
            "image/png": "[encoded data removed]"
          },
          "metadata": {
            "needs_background": "light"
          }
        }
      ],
      "source": [
        "neagtive=mostfreq.iloc[0]\n",
        "words=list(zip(*neagtive))[0]\n",
        "freq=list(zip(*neagtive))[1]\n",
        "\n",
        "\n",
        "plt.figure(figsize=(10,7))\n",
        "plt.bar(words, freq)\n",
        "plt.xlabel('Words', fontsize=10)\n",
        "plt.ylabel('Frequency of Words', fontsize=10)\n",
        "plt.yticks(fontsize=10)\n",
        "plt.xticks(rotation=90, fontsize=10)\n",
        "plt.title('Frequency of 25 Most Common Words for neagtive Review ', fontsize=25)\n",
        "plt.show()"
      ]
    },
    {
      "cell_type": "code",
      "execution_count": 55,
      "metadata": {
        "colab": {
          "base_uri": "https://localhost:8080/",
          "height": 0
        },
        "id": "KGPD-sUG0DnP",
        "outputId": "5cadd7fc-af6b-4315-9a64-2e918918870b"
      },
      "outputs": [
        {
          "output_type": "display_data",
          "data": {
            "text/plain": [
              "<Figure size 720x504 with 1 Axes>"
            ],
            "image/png": "[encoded data removed]"
          },
          "metadata": {
            "needs_background": "light"
          }
        }
      ],
      "source": [
        "positive=mostfreq.iloc[1]\n",
        "words=list(zip(*positive))[0]\n",
        "freq=list(zip(*positive))[1]\n",
        "\n",
        "\n",
        "plt.figure(figsize=(10,7))\n",
        "plt.bar(words, freq)\n",
        "plt.xlabel('Words', fontsize=10)\n",
        "plt.ylabel('Frequency of Words', fontsize=10)\n",
        "plt.yticks(fontsize=10)\n",
        "plt.xticks(rotation=90, fontsize=10)\n",
        "plt.title('Frequency of 25 Most Common Words for positive Review ', fontsize=25)\n",
        "plt.show()"
      ]
    },
    {
      "cell_type": "code",
      "execution_count": 56,
      "metadata": {
        "colab": {
          "base_uri": "https://localhost:8080/",
          "height": 0
        },
        "id": "_kA2NzpZ0myc",
        "outputId": "f785b160-3604-4e71-ded7-ba4cdea34b7c"
      },
      "outputs": [
        {
          "output_type": "display_data",
          "data": {
            "text/plain": [
              "<Figure size 720x504 with 1 Axes>"
            ],
            "image/png": "[encoded data removed]"
          },
          "metadata": {
            "needs_background": "light"
          }
        }
      ],
      "source": [
        "rating_1=mostfreq.iloc[0]\n",
        "words=list(zip(*rating_1))[0]\n",
        "freq=list(zip(*rating_1))[1]\n",
        "\n",
        "\n",
        "plt.figure(figsize=(10,7))\n",
        "plt.bar(words, freq)\n",
        "plt.xlabel('Words', fontsize=10)\n",
        "plt.ylabel('Frequency of Words', fontsize=10)\n",
        "plt.yticks(fontsize=10)\n",
        "plt.xticks(rotation=90, fontsize=10)\n",
        "plt.title('Frequency of 25 Most Common Words for rating_1 ', fontsize=20)\n",
        "plt.show()"
      ]
    },
    {
      "cell_type": "code",
      "execution_count": 57,
      "metadata": {
        "colab": {
          "base_uri": "https://localhost:8080/",
          "height": 0
        },
        "id": "jkJOWfob0z9I",
        "outputId": "4f777fe3-3806-4c1e-81a7-e615783902ae"
      },
      "outputs": [
        {
          "output_type": "display_data",
          "data": {
            "text/plain": [
              "<Figure size 720x504 with 1 Axes>"
            ],
            "image/png": "[encoded data removed]"
          },
          "metadata": {
            "needs_background": "light"
          }
        }
      ],
      "source": [
        "rating_2=mostfreq.iloc[1]\n",
        "words=list(zip(*rating_2))[0]\n",
        "freq=list(zip(*rating_2))[1]\n",
        "\n",
        "\n",
        "plt.figure(figsize=(10,7))\n",
        "plt.bar(words, freq)\n",
        "plt.xlabel('Words', fontsize=10)\n",
        "plt.ylabel('Frequency of Words', fontsize=10)\n",
        "plt.yticks(fontsize=10)\n",
        "plt.xticks(rotation=90, fontsize=10)\n",
        "plt.title('Frequency of 25 Most Common Words for rating_2 ', fontsize=20)\n",
        "plt.show()"
      ]
    },
    {
      "cell_type": "code",
      "execution_count": 58,
      "metadata": {
        "colab": {
          "base_uri": "https://localhost:8080/",
          "height": 0
        },
        "id": "bedCw-Po04DO",
        "outputId": "baa05b6d-cf11-4da5-8075-6f44907d013b"
      },
      "outputs": [
        {
          "output_type": "display_data",
          "data": {
            "text/plain": [
              "<Figure size 720x504 with 1 Axes>"
            ],
            "image/png": "[encoded data removed]"
          },
          "metadata": {
            "needs_background": "light"
          }
        }
      ],
      "source": [
        "rating_3=mostfreq.iloc[2]\n",
        "words=list(zip(*rating_3))[0]\n",
        "freq=list(zip(*rating_3))[1]\n",
        "\n",
        "\n",
        "plt.figure(figsize=(10,7))\n",
        "plt.bar(words, freq)\n",
        "plt.xlabel('Words', fontsize=10)\n",
        "plt.ylabel('Frequency of Words', fontsize=10)\n",
        "plt.yticks(fontsize=10)\n",
        "plt.xticks(rotation=90, fontsize=10)\n",
        "plt.title('Frequency of 25 Most Common Words for rating_3 ', fontsize=20)\n",
        "plt.show()"
      ]
    },
    {
      "cell_type": "code",
      "execution_count": 59,
      "metadata": {
        "colab": {
          "base_uri": "https://localhost:8080/",
          "height": 0
        },
        "id": "OsKxjv7d061C",
        "outputId": "9009d41e-c5b6-4e0b-a79a-c67288b18f55"
      },
      "outputs": [
        {
          "output_type": "display_data",
          "data": {
            "text/plain": [
              "<Figure size 720x504 with 1 Axes>"
            ],
            "image/png": "[encoded data removed]"
          },
          "metadata": {
            "needs_background": "light"
          }
        }
      ],
      "source": [
        "rating_4=mostfreq.iloc[3]\n",
        "words=list(zip(*rating_4))[0]\n",
        "freq=list(zip(*rating_4))[1]\n",
        "\n",
        "\n",
        "plt.figure(figsize=(10,7))\n",
        "plt.bar(words, freq)\n",
        "plt.xlabel('Words', fontsize=10)\n",
        "plt.ylabel('Frequency of Words', fontsize=10)\n",
        "plt.yticks(fontsize=10)\n",
        "plt.xticks(rotation=90, fontsize=10)\n",
        "plt.title('Frequency of 25 Most Common Words for rating_4 ', fontsize=20)\n",
        "plt.show()"
      ]
    },
    {
      "cell_type": "code",
      "execution_count": 60,
      "metadata": {
        "colab": {
          "base_uri": "https://localhost:8080/",
          "height": 0
        },
        "id": "ll2jviBM0-TD",
        "outputId": "9a301b20-5980-48c8-aedb-edbfdcb6be7d"
      },
      "outputs": [
        {
          "output_type": "display_data",
          "data": {
            "text/plain": [
              "<Figure size 720x504 with 1 Axes>"
            ],
            "image/png": "[encoded data removed]"
          },
          "metadata": {
            "needs_background": "light"
          }
        }
      ],
      "source": [
        "rating_5=mostfreq.iloc[4]\n",
        "words=list(zip(*rating_5))[0]\n",
        "freq=list(zip(*rating_5))[1]\n",
        "\n",
        "\n",
        "plt.figure(figsize=(10,7))\n",
        "plt.bar(words, freq)\n",
        "plt.xlabel('Words', fontsize=10)\n",
        "plt.ylabel('Frequency of Words', fontsize=10)\n",
        "plt.yticks(fontsize=10)\n",
        "plt.xticks(rotation=90, fontsize=10)\n",
        "plt.title('Frequency of 25 Most Common Words for rating_5 ', fontsize=20)\n",
        "plt.show()"
      ]
    },
    {
      "cell_type": "code",
      "source": [
        "pos = [5,4]\n",
        "neg = [1,2,3]"
      ],
      "metadata": {
        "id": "dNmp47euRrsJ"
      },
      "execution_count": 61,
      "outputs": []
    },
    {
      "cell_type": "code",
      "source": [
        "def sentiment(rating):\n",
        "  if rating in pos:\n",
        "    return \"positive\"\n",
        "  else:\n",
        "    return \"negative\""
      ],
      "metadata": {
        "id": "R7kbcrMXR0NC"
      },
      "execution_count": 62,
      "outputs": []
    },
    {
      "cell_type": "code",
      "source": [
        "data['sentiment'] = data['Rating'].apply(sentiment)\n",
        "data"
      ],
      "metadata": {
        "colab": {
          "base_uri": "https://localhost:8080/",
          "height": 0
        },
        "id": "6aR8q_CoslBf",
        "outputId": "cfc24b14-2c02-4b37-c5f4-5e437382fbd7"
      },
      "execution_count": 63,
      "outputs": [
        {
          "output_type": "execute_result",
          "data": {
            "text/plain": [
              "                                                  Review  Rating  \\\n",
              "0      nice hotel expensive parking got good deal sta...       4   \n",
              "1      ok nothing special charge diamond member hilto...       2   \n",
              "2      nice rooms not 4* experience hotel monaco seat...       3   \n",
              "3      unique, great stay, wonderful time hotel monac...       5   \n",
              "4      great stay great stay, went seahawk game aweso...       5   \n",
              "...                                                  ...     ...   \n",
              "20486  best kept secret 3rd time staying charm, not 5...       5   \n",
              "20487  great location price view hotel great quick pl...       4   \n",
              "20488  ok just looks nice modern outside, desk staff ...       2   \n",
              "20489  hotel theft ruined vacation hotel opened sept ...       1   \n",
              "20490  people talking, ca n't believe excellent ratin...       2   \n",
              "\n",
              "       num_characters  num_words  num_sentences  \\\n",
              "0                 593         98              1   \n",
              "1                1689        270              1   \n",
              "2                1427        236              2   \n",
              "3                 600        102              1   \n",
              "4                1281        224              1   \n",
              "...               ...        ...            ...   \n",
              "20486             733        121              1   \n",
              "20487             306         40              1   \n",
              "20488             443         70              1   \n",
              "20489            5557        836              1   \n",
              "20490             620        102              1   \n",
              "\n",
              "                                          cleaned_review  \\\n",
              "0      nice hotel expensive parking got good deal sta...   \n",
              "1      nothing special charge diamond member hilton d...   \n",
              "2      nice room experience hotel monaco seattle good...   \n",
              "3      unique great stay wonderful time hotel monaco ...   \n",
              "4      great stay great stay went seahawk game awesom...   \n",
              "...                                                  ...   \n",
              "20486  best kept secret time staying charm star beat ...   \n",
              "20487  great location price view hotel great quick pl...   \n",
              "20488  look nice modern outside desk staff particular...   \n",
              "20489  hotel theft ruined vacation hotel opened sept ...   \n",
              "20490  people talking believe excellent rating hotel ...   \n",
              "\n",
              "                                      lemmatized_content sentiment  \\\n",
              "0      [nice, hotel, expensive, parking, got, good, d...  positive   \n",
              "1      [nothing, special, charge, diamond, member, hi...  negative   \n",
              "2      [nice, room, experience, hotel, monaco, seattl...  negative   \n",
              "3      [unique, great, stay, wonderful, time, hotel, ...  positive   \n",
              "4      [great, stay, great, stay, went, seahawk, game...  positive   \n",
              "...                                                  ...       ...   \n",
              "20486  [best, kept, secret, time, staying, charm, sta...  positive   \n",
              "20487  [great, location, price, view, hotel, great, q...  positive   \n",
              "20488  [look, nice, modern, outside, desk, staff, par...  negative   \n",
              "20489  [hotel, theft, ruined, vacation, hotel, opened...  negative   \n",
              "20490  [people, talking, believe, excellent, rating, ...  negative   \n",
              "\n",
              "      review_segment  word_count  result_len  \n",
              "0           positive          81         543  \n",
              "1           positive         224        1539  \n",
              "2           positive         187        1264  \n",
              "3           positive          84         557  \n",
              "4           positive         171        1150  \n",
              "...              ...         ...         ...  \n",
              "20486       positive         100         666  \n",
              "20487       positive          43         294  \n",
              "20488       positive          60         406  \n",
              "20489       positive         725        5157  \n",
              "20490       positive          82         565  \n",
              "\n",
              "[20491 rows x 11 columns]"
            ],
            "text/html": [
              "\n",
              "  <div id=\"df-61522852-e13c-4657-8112-88db3b6be232\">\n",
              "    <div class=\"colab-df-container\">\n",
              "      <div>\n",
              "<style scoped>\n",
              "    .dataframe tbody tr th:only-of-type {\n",
              "        vertical-align: middle;\n",
              "    }\n",
              "\n",
              "    .dataframe tbody tr th {\n",
              "        vertical-align: top;\n",
              "    }\n",
              "\n",
              "    .dataframe thead th {\n",
              "        text-align: right;\n",
              "    }\n",
              "</style>\n",
              "<table border=\"1\" class=\"dataframe\">\n",
              "  <thead>\n",
              "    <tr style=\"text-align: right;\">\n",
              "      <th></th>\n",
              "      <th>Review</th>\n",
              "      <th>Rating</th>\n",
              "      <th>num_characters</th>\n",
              "      <th>num_words</th>\n",
              "      <th>num_sentences</th>\n",
              "      <th>cleaned_review</th>\n",
              "      <th>lemmatized_content</th>\n",
              "      <th>sentiment</th>\n",
              "      <th>review_segment</th>\n",
              "      <th>word_count</th>\n",
              "      <th>result_len</th>\n",
              "    </tr>\n",
              "  </thead>\n",
              "  <tbody>\n",
              "    <tr>\n",
              "      <th>0</th>\n",
              "      <td>nice hotel expensive parking got good deal sta...</td>\n",
              "      <td>4</td>\n",
              "      <td>593</td>\n",
              "      <td>98</td>\n",
              "      <td>1</td>\n",
              "      <td>nice hotel expensive parking got good deal sta...</td>\n",
              "      <td>[nice, hotel, expensive, parking, got, good, d...</td>\n",
              "      <td>positive</td>\n",
              "      <td>positive</td>\n",
              "      <td>81</td>\n",
              "      <td>543</td>\n",
              "    </tr>\n",
              "    <tr>\n",
              "      <th>1</th>\n",
              "      <td>ok nothing special charge diamond member hilto...</td>\n",
              "      <td>2</td>\n",
              "      <td>1689</td>\n",
              "      <td>270</td>\n",
              "      <td>1</td>\n",
              "      <td>nothing special charge diamond member hilton d...</td>\n",
              "      <td>[nothing, special, charge, diamond, member, hi...</td>\n",
              "      <td>negative</td>\n",
              "      <td>positive</td>\n",
              "      <td>224</td>\n",
              "      <td>1539</td>\n",
              "    </tr>\n",
              "    <tr>\n",
              "      <th>2</th>\n",
              "      <td>nice rooms not 4* experience hotel monaco seat...</td>\n",
              "      <td>3</td>\n",
              "      <td>1427</td>\n",
              "      <td>236</td>\n",
              "      <td>2</td>\n",
              "      <td>nice room experience hotel monaco seattle good...</td>\n",
              "      <td>[nice, room, experience, hotel, monaco, seattl...</td>\n",
              "      <td>negative</td>\n",
              "      <td>positive</td>\n",
              "      <td>187</td>\n",
              "      <td>1264</td>\n",
              "    </tr>\n",
              "    <tr>\n",
              "      <th>3</th>\n",
              "      <td>unique, great stay, wonderful time hotel monac...</td>\n",
              "      <td>5</td>\n",
              "      <td>600</td>\n",
              "      <td>102</td>\n",
              "      <td>1</td>\n",
              "      <td>unique great stay wonderful time hotel monaco ...</td>\n",
              "      <td>[unique, great, stay, wonderful, time, hotel, ...</td>\n",
              "      <td>positive</td>\n",
              "      <td>positive</td>\n",
              "      <td>84</td>\n",
              "      <td>557</td>\n",
              "    </tr>\n",
              "    <tr>\n",
              "      <th>4</th>\n",
              "      <td>great stay great stay, went seahawk game aweso...</td>\n",
              "      <td>5</td>\n",
              "      <td>1281</td>\n",
              "      <td>224</td>\n",
              "      <td>1</td>\n",
              "      <td>great stay great stay went seahawk game awesom...</td>\n",
              "      <td>[great, stay, great, stay, went, seahawk, game...</td>\n",
              "      <td>positive</td>\n",
              "      <td>positive</td>\n",
              "      <td>171</td>\n",
              "      <td>1150</td>\n",
              "    </tr>\n",
              "    <tr>\n",
              "      <th>...</th>\n",
              "      <td>...</td>\n",
              "      <td>...</td>\n",
              "      <td>...</td>\n",
              "      <td>...</td>\n",
              "      <td>...</td>\n",
              "      <td>...</td>\n",
              "      <td>...</td>\n",
              "      <td>...</td>\n",
              "      <td>...</td>\n",
              "      <td>...</td>\n",
              "      <td>...</td>\n",
              "    </tr>\n",
              "    <tr>\n",
              "      <th>20486</th>\n",
              "      <td>best kept secret 3rd time staying charm, not 5...</td>\n",
              "      <td>5</td>\n",
              "      <td>733</td>\n",
              "      <td>121</td>\n",
              "      <td>1</td>\n",
              "      <td>best kept secret time staying charm star beat ...</td>\n",
              "      <td>[best, kept, secret, time, staying, charm, sta...</td>\n",
              "      <td>positive</td>\n",
              "      <td>positive</td>\n",
              "      <td>100</td>\n",
              "      <td>666</td>\n",
              "    </tr>\n",
              "    <tr>\n",
              "      <th>20487</th>\n",
              "      <td>great location price view hotel great quick pl...</td>\n",
              "      <td>4</td>\n",
              "      <td>306</td>\n",
              "      <td>40</td>\n",
              "      <td>1</td>\n",
              "      <td>great location price view hotel great quick pl...</td>\n",
              "      <td>[great, location, price, view, hotel, great, q...</td>\n",
              "      <td>positive</td>\n",
              "      <td>positive</td>\n",
              "      <td>43</td>\n",
              "      <td>294</td>\n",
              "    </tr>\n",
              "    <tr>\n",
              "      <th>20488</th>\n",
              "      <td>ok just looks nice modern outside, desk staff ...</td>\n",
              "      <td>2</td>\n",
              "      <td>443</td>\n",
              "      <td>70</td>\n",
              "      <td>1</td>\n",
              "      <td>look nice modern outside desk staff particular...</td>\n",
              "      <td>[look, nice, modern, outside, desk, staff, par...</td>\n",
              "      <td>negative</td>\n",
              "      <td>positive</td>\n",
              "      <td>60</td>\n",
              "      <td>406</td>\n",
              "    </tr>\n",
              "    <tr>\n",
              "      <th>20489</th>\n",
              "      <td>hotel theft ruined vacation hotel opened sept ...</td>\n",
              "      <td>1</td>\n",
              "      <td>5557</td>\n",
              "      <td>836</td>\n",
              "      <td>1</td>\n",
              "      <td>hotel theft ruined vacation hotel opened sept ...</td>\n",
              "      <td>[hotel, theft, ruined, vacation, hotel, opened...</td>\n",
              "      <td>negative</td>\n",
              "      <td>positive</td>\n",
              "      <td>725</td>\n",
              "      <td>5157</td>\n",
              "    </tr>\n",
              "    <tr>\n",
              "      <th>20490</th>\n",
              "      <td>people talking, ca n't believe excellent ratin...</td>\n",
              "      <td>2</td>\n",
              "      <td>620</td>\n",
              "      <td>102</td>\n",
              "      <td>1</td>\n",
              "      <td>people talking believe excellent rating hotel ...</td>\n",
              "      <td>[people, talking, believe, excellent, rating, ...</td>\n",
              "      <td>negative</td>\n",
              "      <td>positive</td>\n",
              "      <td>82</td>\n",
              "      <td>565</td>\n",
              "    </tr>\n",
              "  </tbody>\n",
              "</table>\n",
              "<p>20491 rows × 11 columns</p>\n",
              "</div>\n",
              "      <button class=\"colab-df-convert\" onclick=\"convertToInteractive('df-61522852-e13c-4657-8112-88db3b6be232')\"\n",
              "              title=\"Convert this dataframe to an interactive table.\"\n",
              "              style=\"display:none;\">\n",
              "        \n",
              "  <svg xmlns=\"http://www.w3.org/2000/svg\" height=\"24px\"viewBox=\"0 0 24 24\"\n",
              "       width=\"24px\">\n",
              "    <path d=\"M0 0h24v24H0V0z\" fill=\"none\"/>\n",
              "    <path d=\"M18.56 5.44l.94 2.06.94-2.06 2.06-.94-2.06-.94-.94-2.06-.94 2.06-2.06.94zm-11 1L8.5 8.5l.94-2.06 2.06-.94-2.06-.94L8.5 2.5l-.94 2.06-2.06.94zm10 10l.94 2.06.94-2.06 2.06-.94-2.06-.94-.94-2.06-.94 2.06-2.06.94z\"/><path d=\"M17.41 7.96l-1.37-1.37c-.4-.4-.92-.59-1.43-.59-.52 0-1.04.2-1.43.59L10.3 9.45l-7.72 7.72c-.78.78-.78 2.05 0 2.83L4 21.41c.39.39.9.59 1.41.59.51 0 1.02-.2 1.41-.59l7.78-7.78 2.81-2.81c.8-.78.8-2.07 0-2.86zM5.41 20L4 18.59l7.72-7.72 1.47 1.35L5.41 20z\"/>\n",
              "  </svg>\n",
              "      </button>\n",
              "      \n",
              "  <style>\n",
              "    .colab-df-container {\n",
              "      display:flex;\n",
              "      flex-wrap:wrap;\n",
              "      gap: 12px;\n",
              "    }\n",
              "\n",
              "    .colab-df-convert {\n",
              "      background-color: #E8F0FE;\n",
              "      border: none;\n",
              "      border-radius: 50%;\n",
              "      cursor: pointer;\n",
              "      display: none;\n",
              "      fill: #1967D2;\n",
              "      height: 32px;\n",
              "      padding: 0 0 0 0;\n",
              "      width: 32px;\n",
              "    }\n",
              "\n",
              "    .colab-df-convert:hover {\n",
              "      background-color: #E2EBFA;\n",
              "      box-shadow: 0px 1px 2px rgba(60, 64, 67, 0.3), 0px 1px 3px 1px rgba(60, 64, 67, 0.15);\n",
              "      fill: #174EA6;\n",
              "    }\n",
              "\n",
              "    [theme=dark] .colab-df-convert {\n",
              "      background-color: #3B4455;\n",
              "      fill: #D2E3FC;\n",
              "    }\n",
              "\n",
              "    [theme=dark] .colab-df-convert:hover {\n",
              "      background-color: #434B5C;\n",
              "      box-shadow: 0px 1px 3px 1px rgba(0, 0, 0, 0.15);\n",
              "      filter: drop-shadow(0px 1px 2px rgba(0, 0, 0, 0.3));\n",
              "      fill: #FFFFFF;\n",
              "    }\n",
              "  </style>\n",
              "\n",
              "      <script>\n",
              "        const buttonEl =\n",
              "          document.querySelector('#df-61522852-e13c-4657-8112-88db3b6be232 button.colab-df-convert');\n",
              "        buttonEl.style.display =\n",
              "          google.colab.kernel.accessAllowed ? 'block' : 'none';\n",
              "\n",
              "        async function convertToInteractive(key) {\n",
              "          const element = document.querySelector('#df-61522852-e13c-4657-8112-88db3b6be232');\n",
              "          const dataTable =\n",
              "            await google.colab.kernel.invokeFunction('convertToInteractive',\n",
              "                                                     [key], {});\n",
              "          if (!dataTable) return;\n",
              "\n",
              "          const docLinkHtml = 'Like what you see? Visit the ' +\n",
              "            '<a target=\"_blank\" href=https://colab.research.google.com/notebooks/data_table.ipynb>data table notebook</a>'\n",
              "            + ' to learn more about interactive tables.';\n",
              "          element.innerHTML = '';\n",
              "          dataTable['output_type'] = 'display_data';\n",
              "          await google.colab.output.renderOutput(dataTable, element);\n",
              "          const docLink = document.createElement('div');\n",
              "          docLink.innerHTML = docLinkHtml;\n",
              "          element.appendChild(docLink);\n",
              "        }\n",
              "      </script>\n",
              "    </div>\n",
              "  </div>\n",
              "  "
            ]
          },
          "metadata": {},
          "execution_count": 63
        }
      ]
    },
    {
      "cell_type": "code",
      "source": [
        "data.sentiment.value_counts()"
      ],
      "metadata": {
        "colab": {
          "base_uri": "https://localhost:8080/"
        },
        "id": "C2kBFQzXtfeX",
        "outputId": "4015186b-c578-4d1a-de4c-1ef025680c14"
      },
      "execution_count": 64,
      "outputs": [
        {
          "output_type": "execute_result",
          "data": {
            "text/plain": [
              "positive    15093\n",
              "negative     5398\n",
              "Name: sentiment, dtype: int64"
            ]
          },
          "metadata": {},
          "execution_count": 64
        }
      ]
    },
    {
      "cell_type": "code",
      "source": [
        "# let's see how many ratio of sentiment\n",
        "data.sentiment.value_counts().plot(kind='bar', color='green')\n",
        "plt.title('Sentiment Classification')\n",
        "plt.show()"
      ],
      "metadata": {
        "colab": {
          "base_uri": "https://localhost:8080/",
          "height": 0
        },
        "id": "8tRXjbKJtt5b",
        "outputId": "2879b48a-d4f9-4cc3-ba45-f6ec747591f3"
      },
      "execution_count": 65,
      "outputs": [
        {
          "output_type": "display_data",
          "data": {
            "text/plain": [
              "<Figure size 432x288 with 1 Axes>"
            ],
            "image/png": "[encoded data removed]"
          },
          "metadata": {
            "needs_background": "light"
          }
        }
      ]
    },
    {
      "cell_type": "code",
      "execution_count": 66,
      "metadata": {
        "id": "d1h-jBBG1Nkg"
      },
      "outputs": [],
      "source": [
        "# Vectorizing\n",
        "# transform the text to numeric data\n",
        "from sklearn.feature_extraction.text import TfidfVectorizer\n",
        "tfidf_vect= TfidfVectorizer()\n",
        "X_train_tfidf = tfidf_vect.fit(data['cleaned_review'])"
      ]
    },
    {
      "cell_type": "code",
      "execution_count": 67,
      "metadata": {
        "id": "vUi_hZPK1P7X"
      },
      "outputs": [],
      "source": [
        "X_train_tfidf_transform = X_train_tfidf.transform(data['cleaned_review'])"
      ]
    },
    {
      "cell_type": "markdown",
      "source": [
        "# Model Building"
      ],
      "metadata": {
        "id": "sXqOe4ObvfyW"
      }
    },
    {
      "cell_type": "code",
      "execution_count": 68,
      "metadata": {
        "id": "slTg2SSA1itz"
      },
      "outputs": [],
      "source": [
        "#SPLITTING THE TRAINING DATASET INTO TRAIN AND TEST\n",
        "from sklearn.model_selection import train_test_split\n",
        "X_train, X_test, y_train, y_test = train_test_split(X_train_tfidf_transform,data['review_segment'],test_size=0.3, random_state=30,shuffle=True)"
      ]
    },
    {
      "cell_type": "code",
      "execution_count": 69,
      "metadata": {
        "id": "RnV-PpVz2Dik"
      },
      "outputs": [],
      "source": [
        "import pandas as pd\n",
        "import numpy as np\n",
        "from sklearn.linear_model import LogisticRegression\n",
        "from sklearn.naive_bayes import MultinomialNB\n",
        "from sklearn.neighbors import KNeighborsClassifier\n",
        "\n",
        "from sklearn.ensemble import RandomForestClassifier\n",
        "from sklearn.ensemble import AdaBoostClassifier\n",
        "from sklearn.ensemble import BaggingClassifier\n",
        "\n",
        "from sklearn.ensemble import GradientBoostingClassifier\n",
        "\n",
        "from sklearn.model_selection import train_test_split\n",
        "from sklearn.metrics import classification_report\n",
        "from sklearn.metrics import confusion_matrix\n",
        "\n",
        "from sklearn.metrics import precision_score, recall_score, f1_score, accuracy_score\n",
        "\n"
      ]
    },
    {
      "cell_type": "code",
      "execution_count": 70,
      "metadata": {
        "colab": {
          "base_uri": "https://localhost:8080/"
        },
        "id": "2j-pHsmg1xcQ",
        "outputId": "dbc6f241-83f4-4de9-b3c1-fe6461dab631"
      },
      "outputs": [
        {
          "output_type": "stream",
          "name": "stdout",
          "text": [
            "(14343, 45604) (14343,)\n"
          ]
        },
        {
          "output_type": "execute_result",
          "data": {
            "text/plain": [
              "((6148, 45604), (6148,))"
            ]
          },
          "metadata": {},
          "execution_count": 70
        }
      ],
      "source": [
        "print(X_train.shape,y_train.shape)\n",
        "X_test.shape,y_test.shape"
      ]
    },
    {
      "cell_type": "code",
      "execution_count": 71,
      "metadata": {
        "id": "gs-UMZSd14ZY"
      },
      "outputs": [],
      "source": [
        "def accuracy(y_train,y_train_pred,y_test,y_test_pred):\n",
        "    print('Train Accuracy\\n')\n",
        "    print(classification_report(y_train,y_train_pred))\n",
        "    print('\\n',confusion_matrix(y_train,y_train_pred))\n",
        "    print('\\n',accuracy_score(y_train,y_train_pred))\n",
        "    print('*'*100)\n",
        "    print('Test Accuracy\\n')\n",
        "    print(classification_report(y_test,y_test_pred))\n",
        "    print('\\n',confusion_matrix(y_test,y_test_pred))\n",
        "    print('\\n',accuracy_score(y_test,y_test_pred))  "
      ]
    },
    {
      "cell_type": "markdown",
      "source": [
        "# Logistic Regression"
      ],
      "metadata": {
        "id": "OyaVfwAvvZKc"
      }
    },
    {
      "cell_type": "code",
      "execution_count": 72,
      "metadata": {
        "id": "IIfuJsK-2KCL"
      },
      "outputs": [],
      "source": [
        "#1) Logistic regression\n",
        "lg = LogisticRegression()\n",
        "lg_model = lg.fit(X_train,y_train)\n",
        "y_train_pred = lg_model.predict(X_train)\n",
        "y_test_pred = lg_model.predict(X_test)"
      ]
    },
    {
      "cell_type": "code",
      "execution_count": 73,
      "metadata": {
        "colab": {
          "base_uri": "https://localhost:8080/"
        },
        "id": "jOAD7N962N4k",
        "outputId": "fba54724-b3f2-4f0f-bb99-7462d3afa13f"
      },
      "outputs": [
        {
          "output_type": "stream",
          "name": "stdout",
          "text": [
            "Train Accuracy\n",
            "\n",
            "              precision    recall  f1-score   support\n",
            "\n",
            "    negative       1.00      0.36      0.53       866\n",
            "    positive       0.96      1.00      0.98     13477\n",
            "\n",
            "    accuracy                           0.96     14343\n",
            "   macro avg       0.98      0.68      0.76     14343\n",
            "weighted avg       0.96      0.96      0.95     14343\n",
            "\n",
            "\n",
            " [[  316   550]\n",
            " [    1 13476]]\n",
            "\n",
            " 0.9615840479676497\n",
            "****************************************************************************************************\n",
            "Test Accuracy\n",
            "\n",
            "              precision    recall  f1-score   support\n",
            "\n",
            "    negative       0.95      0.24      0.38       324\n",
            "    positive       0.96      1.00      0.98      5824\n",
            "\n",
            "    accuracy                           0.96      6148\n",
            "   macro avg       0.96      0.62      0.68      6148\n",
            "weighted avg       0.96      0.96      0.95      6148\n",
            "\n",
            "\n",
            " [[  78  246]\n",
            " [   4 5820]]\n",
            "\n",
            " 0.9593363695510735\n"
          ]
        }
      ],
      "source": [
        "accuracy(y_train,y_train_pred,y_test,y_test_pred)"
      ]
    },
    {
      "cell_type": "code",
      "execution_count": 74,
      "metadata": {
        "id": "axTZvxrrbq6R"
      },
      "outputs": [],
      "source": [
        "Data_models = pd.DataFrame(columns = ['Model','Train_Accuracy','Test_Accuracy'])"
      ]
    },
    {
      "cell_type": "code",
      "execution_count": 75,
      "metadata": {
        "id": "L941ZUEQbq6R"
      },
      "outputs": [],
      "source": [
        "lg_train =accuracy_score(y_train,y_train_pred)\n",
        "lg_test  =accuracy_score(y_test,y_test_pred)\n",
        "\n",
        "\n",
        "Data_models.loc[1,'Model'] = 'Logistic Regression'\n",
        "Data_models.loc[1,\"Train_Accuracy\"] = lg_train\n",
        "Data_models.loc[1,\"Test_Accuracy\"] = lg_test"
      ]
    },
    {
      "cell_type": "code",
      "execution_count": 76,
      "metadata": {
        "id": "DkrAHcGXbq6R"
      },
      "outputs": [],
      "source": [
        "def get_percentage(num):\n",
        "    return \"{:.2f}\".format(num*100)"
      ]
    },
    {
      "cell_type": "code",
      "execution_count": 77,
      "metadata": {
        "colab": {
          "base_uri": "https://localhost:8080/",
          "height": 0
        },
        "id": "2OsHcnl1bq6R",
        "outputId": "7d1c138c-ee32-4814-b2de-4990d00fab3c"
      },
      "outputs": [
        {
          "output_type": "execute_result",
          "data": {
            "text/plain": [
              "                 Model Train_Accuracy Test_Accuracy\n",
              "1  Logistic Regression          96.16         95.93"
            ],
            "text/html": [
              "\n",
              "  <div id=\"df-6b54fec4-4a8a-4033-8a12-829c7922d7d5\">\n",
              "    <div class=\"colab-df-container\">\n",
              "      <div>\n",
              "<style scoped>\n",
              "    .dataframe tbody tr th:only-of-type {\n",
              "        vertical-align: middle;\n",
              "    }\n",
              "\n",
              "    .dataframe tbody tr th {\n",
              "        vertical-align: top;\n",
              "    }\n",
              "\n",
              "    .dataframe thead th {\n",
              "        text-align: right;\n",
              "    }\n",
              "</style>\n",
              "<table border=\"1\" class=\"dataframe\">\n",
              "  <thead>\n",
              "    <tr style=\"text-align: right;\">\n",
              "      <th></th>\n",
              "      <th>Model</th>\n",
              "      <th>Train_Accuracy</th>\n",
              "      <th>Test_Accuracy</th>\n",
              "    </tr>\n",
              "  </thead>\n",
              "  <tbody>\n",
              "    <tr>\n",
              "      <th>1</th>\n",
              "      <td>Logistic Regression</td>\n",
              "      <td>96.16</td>\n",
              "      <td>95.93</td>\n",
              "    </tr>\n",
              "  </tbody>\n",
              "</table>\n",
              "</div>\n",
              "      <button class=\"colab-df-convert\" onclick=\"convertToInteractive('df-6b54fec4-4a8a-4033-8a12-829c7922d7d5')\"\n",
              "              title=\"Convert this dataframe to an interactive table.\"\n",
              "              style=\"display:none;\">\n",
              "        \n",
              "  <svg xmlns=\"http://www.w3.org/2000/svg\" height=\"24px\"viewBox=\"0 0 24 24\"\n",
              "       width=\"24px\">\n",
              "    <path d=\"M0 0h24v24H0V0z\" fill=\"none\"/>\n",
              "    <path d=\"M18.56 5.44l.94 2.06.94-2.06 2.06-.94-2.06-.94-.94-2.06-.94 2.06-2.06.94zm-11 1L8.5 8.5l.94-2.06 2.06-.94-2.06-.94L8.5 2.5l-.94 2.06-2.06.94zm10 10l.94 2.06.94-2.06 2.06-.94-2.06-.94-.94-2.06-.94 2.06-2.06.94z\"/><path d=\"M17.41 7.96l-1.37-1.37c-.4-.4-.92-.59-1.43-.59-.52 0-1.04.2-1.43.59L10.3 9.45l-7.72 7.72c-.78.78-.78 2.05 0 2.83L4 21.41c.39.39.9.59 1.41.59.51 0 1.02-.2 1.41-.59l7.78-7.78 2.81-2.81c.8-.78.8-2.07 0-2.86zM5.41 20L4 18.59l7.72-7.72 1.47 1.35L5.41 20z\"/>\n",
              "  </svg>\n",
              "      </button>\n",
              "      \n",
              "  <style>\n",
              "    .colab-df-container {\n",
              "      display:flex;\n",
              "      flex-wrap:wrap;\n",
              "      gap: 12px;\n",
              "    }\n",
              "\n",
              "    .colab-df-convert {\n",
              "      background-color: #E8F0FE;\n",
              "      border: none;\n",
              "      border-radius: 50%;\n",
              "      cursor: pointer;\n",
              "      display: none;\n",
              "      fill: #1967D2;\n",
              "      height: 32px;\n",
              "      padding: 0 0 0 0;\n",
              "      width: 32px;\n",
              "    }\n",
              "\n",
              "    .colab-df-convert:hover {\n",
              "      background-color: #E2EBFA;\n",
              "      box-shadow: 0px 1px 2px rgba(60, 64, 67, 0.3), 0px 1px 3px 1px rgba(60, 64, 67, 0.15);\n",
              "      fill: #174EA6;\n",
              "    }\n",
              "\n",
              "    [theme=dark] .colab-df-convert {\n",
              "      background-color: #3B4455;\n",
              "      fill: #D2E3FC;\n",
              "    }\n",
              "\n",
              "    [theme=dark] .colab-df-convert:hover {\n",
              "      background-color: #434B5C;\n",
              "      box-shadow: 0px 1px 3px 1px rgba(0, 0, 0, 0.15);\n",
              "      filter: drop-shadow(0px 1px 2px rgba(0, 0, 0, 0.3));\n",
              "      fill: #FFFFFF;\n",
              "    }\n",
              "  </style>\n",
              "\n",
              "      <script>\n",
              "        const buttonEl =\n",
              "          document.querySelector('#df-6b54fec4-4a8a-4033-8a12-829c7922d7d5 button.colab-df-convert');\n",
              "        buttonEl.style.display =\n",
              "          google.colab.kernel.accessAllowed ? 'block' : 'none';\n",
              "\n",
              "        async function convertToInteractive(key) {\n",
              "          const element = document.querySelector('#df-6b54fec4-4a8a-4033-8a12-829c7922d7d5');\n",
              "          const dataTable =\n",
              "            await google.colab.kernel.invokeFunction('convertToInteractive',\n",
              "                                                     [key], {});\n",
              "          if (!dataTable) return;\n",
              "\n",
              "          const docLinkHtml = 'Like what you see? Visit the ' +\n",
              "            '<a target=\"_blank\" href=https://colab.research.google.com/notebooks/data_table.ipynb>data table notebook</a>'\n",
              "            + ' to learn more about interactive tables.';\n",
              "          element.innerHTML = '';\n",
              "          dataTable['output_type'] = 'display_data';\n",
              "          await google.colab.output.renderOutput(dataTable, element);\n",
              "          const docLink = document.createElement('div');\n",
              "          docLink.innerHTML = docLinkHtml;\n",
              "          element.appendChild(docLink);\n",
              "        }\n",
              "      </script>\n",
              "    </div>\n",
              "  </div>\n",
              "  "
            ]
          },
          "metadata": {},
          "execution_count": 77
        }
      ],
      "source": [
        "Data_models[\"Train_Accuracy\"] = Data_models[\"Train_Accuracy\"].apply(get_percentage)\n",
        "Data_models[\"Test_Accuracy\"]  = Data_models[\"Test_Accuracy\"].apply(get_percentage)\n",
        "Data_models"
      ]
    },
    {
      "cell_type": "code",
      "source": [
        "y_pred = lg.predict(X_test)"
      ],
      "metadata": {
        "id": "uMHixzCowawL"
      },
      "execution_count": 78,
      "outputs": []
    },
    {
      "cell_type": "code",
      "source": [
        "from sklearn.metrics import classification_report\n",
        "print(classification_report(y_test,y_pred))"
      ],
      "metadata": {
        "colab": {
          "base_uri": "https://localhost:8080/"
        },
        "id": "GT87a7s0wO4g",
        "outputId": "2dc13aac-32e0-48f2-b195-d7787a63ad96"
      },
      "execution_count": 79,
      "outputs": [
        {
          "output_type": "stream",
          "name": "stdout",
          "text": [
            "              precision    recall  f1-score   support\n",
            "\n",
            "    negative       0.95      0.24      0.38       324\n",
            "    positive       0.96      1.00      0.98      5824\n",
            "\n",
            "    accuracy                           0.96      6148\n",
            "   macro avg       0.96      0.62      0.68      6148\n",
            "weighted avg       0.96      0.96      0.95      6148\n",
            "\n"
          ]
        }
      ]
    },
    {
      "cell_type": "markdown",
      "source": [
        "** Overall Accuracy for Logistic Regression is 97%**"
      ],
      "metadata": {
        "id": "FIjZnrb_wlrP"
      }
    },
    {
      "cell_type": "markdown",
      "source": [
        "# Naive Bayes"
      ],
      "metadata": {
        "id": "cS8KZqqXvUAP"
      }
    },
    {
      "cell_type": "code",
      "execution_count": 80,
      "metadata": {
        "id": "grzxS4Bk3U3I"
      },
      "outputs": [],
      "source": [
        "#2) Multinomial Naive Bayes\n",
        "nb= MultinomialNB()\n",
        "nb.fit(X_train,y_train)\n",
        "y_train_pred = nb.predict(X_train)\n",
        "y_test_pred = nb.predict(X_test)"
      ]
    },
    {
      "cell_type": "code",
      "execution_count": 81,
      "metadata": {
        "colab": {
          "base_uri": "https://localhost:8080/"
        },
        "id": "W4w1bSsC3YGK",
        "outputId": "953bdf4d-b983-45ff-ed4d-671f9acc8611"
      },
      "outputs": [
        {
          "output_type": "stream",
          "name": "stdout",
          "text": [
            "Train Accuracy\n",
            "\n",
            "              precision    recall  f1-score   support\n",
            "\n",
            "    negative       0.00      0.00      0.00       866\n",
            "    positive       0.94      1.00      0.97     13477\n",
            "\n",
            "    accuracy                           0.94     14343\n",
            "   macro avg       0.47      0.50      0.48     14343\n",
            "weighted avg       0.88      0.94      0.91     14343\n",
            "\n",
            "\n",
            " [[    0   866]\n",
            " [    0 13477]]\n",
            "\n",
            " 0.9396221153175766\n",
            "****************************************************************************************************\n",
            "Test Accuracy\n",
            "\n",
            "              precision    recall  f1-score   support\n",
            "\n",
            "    negative       0.00      0.00      0.00       324\n",
            "    positive       0.95      1.00      0.97      5824\n",
            "\n",
            "    accuracy                           0.95      6148\n",
            "   macro avg       0.47      0.50      0.49      6148\n",
            "weighted avg       0.90      0.95      0.92      6148\n",
            "\n",
            "\n",
            " [[   0  324]\n",
            " [   0 5824]]\n",
            "\n",
            " 0.9472999349381913\n"
          ]
        }
      ],
      "source": [
        "accuracy(y_train,y_train_pred,y_test,y_test_pred)"
      ]
    },
    {
      "cell_type": "code",
      "source": [
        "y_pred = nb.predict(X_test)"
      ],
      "metadata": {
        "id": "TnUsejMKw-WP"
      },
      "execution_count": 82,
      "outputs": []
    },
    {
      "cell_type": "code",
      "source": [
        "from sklearn.metrics import classification_report\n",
        "print(classification_report(y_test,y_pred))"
      ],
      "metadata": {
        "colab": {
          "base_uri": "https://localhost:8080/"
        },
        "id": "DazEO-TGw7gK",
        "outputId": "eec47c0a-5d11-495e-b460-63ad2c751e81"
      },
      "execution_count": 83,
      "outputs": [
        {
          "output_type": "stream",
          "name": "stdout",
          "text": [
            "              precision    recall  f1-score   support\n",
            "\n",
            "    negative       0.00      0.00      0.00       324\n",
            "    positive       0.95      1.00      0.97      5824\n",
            "\n",
            "    accuracy                           0.95      6148\n",
            "   macro avg       0.47      0.50      0.49      6148\n",
            "weighted avg       0.90      0.95      0.92      6148\n",
            "\n"
          ]
        }
      ]
    },
    {
      "cell_type": "markdown",
      "source": [
        "**Overall Accuracy for Naive Bayes is 95%**"
      ],
      "metadata": {
        "id": "mSxyoJbyxPO-"
      }
    },
    {
      "cell_type": "markdown",
      "source": [
        "# Random Forest"
      ],
      "metadata": {
        "id": "qoJV7rQCxWM0"
      }
    },
    {
      "cell_type": "code",
      "execution_count": 84,
      "metadata": {
        "id": "Bzdqw-1V3l9k"
      },
      "outputs": [],
      "source": [
        "#3) Random Forest\n",
        "rf = RandomForestClassifier(max_features=400)\n",
        "rf.fit(X_train,y_train)\n",
        "y_train_pred = rf.predict(X_train)\n",
        "y_test_pred = rf.predict(X_test)"
      ]
    },
    {
      "cell_type": "code",
      "execution_count": 85,
      "metadata": {
        "colab": {
          "base_uri": "https://localhost:8080/"
        },
        "id": "vCMMm5eD3mb0",
        "outputId": "08b929fc-0836-44d1-98ce-a9790d690d0a"
      },
      "outputs": [
        {
          "output_type": "stream",
          "name": "stdout",
          "text": [
            "Train Accuracy\n",
            "\n",
            "              precision    recall  f1-score   support\n",
            "\n",
            "    negative       1.00      1.00      1.00       866\n",
            "    positive       1.00      1.00      1.00     13477\n",
            "\n",
            "    accuracy                           1.00     14343\n",
            "   macro avg       1.00      1.00      1.00     14343\n",
            "weighted avg       1.00      1.00      1.00     14343\n",
            "\n",
            "\n",
            " [[  866     0]\n",
            " [    0 13477]]\n",
            "\n",
            " 1.0\n",
            "****************************************************************************************************\n",
            "Test Accuracy\n",
            "\n",
            "              precision    recall  f1-score   support\n",
            "\n",
            "    negative       0.97      0.09      0.17       324\n",
            "    positive       0.95      1.00      0.98      5824\n",
            "\n",
            "    accuracy                           0.95      6148\n",
            "   macro avg       0.96      0.55      0.57      6148\n",
            "weighted avg       0.95      0.95      0.93      6148\n",
            "\n",
            "\n",
            " [[  30  294]\n",
            " [   1 5823]]\n",
            "\n",
            " 0.9520169160702667\n"
          ]
        }
      ],
      "source": [
        "accuracy(y_train,y_train_pred,y_test,y_test_pred)"
      ]
    },
    {
      "cell_type": "code",
      "source": [
        "y_pred = rf.predict(X_test)"
      ],
      "metadata": {
        "id": "gdBVA33SxujL"
      },
      "execution_count": 86,
      "outputs": []
    },
    {
      "cell_type": "code",
      "source": [
        "from sklearn.metrics import classification_report\n",
        "print(classification_report(y_test,y_pred))"
      ],
      "metadata": {
        "colab": {
          "base_uri": "https://localhost:8080/"
        },
        "id": "n_mOaoOQx31f",
        "outputId": "a967bcd7-f2a5-44c8-e0a4-19a5d4c23abb"
      },
      "execution_count": 87,
      "outputs": [
        {
          "output_type": "stream",
          "name": "stdout",
          "text": [
            "              precision    recall  f1-score   support\n",
            "\n",
            "    negative       0.97      0.09      0.17       324\n",
            "    positive       0.95      1.00      0.98      5824\n",
            "\n",
            "    accuracy                           0.95      6148\n",
            "   macro avg       0.96      0.55      0.57      6148\n",
            "weighted avg       0.95      0.95      0.93      6148\n",
            "\n"
          ]
        }
      ]
    },
    {
      "cell_type": "markdown",
      "source": [
        "**Overall Accuracy for random Forest is 95%**"
      ],
      "metadata": {
        "id": "CcYNYCDNx-J1"
      }
    },
    {
      "cell_type": "markdown",
      "source": [
        "#Gradient Boost"
      ],
      "metadata": {
        "id": "B9RvjGq2yFAj"
      }
    },
    {
      "cell_type": "code",
      "execution_count": 88,
      "metadata": {
        "id": "NnfqRYR-3uIW"
      },
      "outputs": [],
      "source": [
        "#4) Gradiient Boost\n",
        "gb = GradientBoostingClassifier()\n",
        "gb.fit(X_train,y_train)\n",
        "y_train_pred = gb.predict(X_train)\n",
        "y_test_pred = gb.predict(X_test)"
      ]
    },
    {
      "cell_type": "code",
      "execution_count": 89,
      "metadata": {
        "colab": {
          "base_uri": "https://localhost:8080/"
        },
        "id": "AgWlFqmy3uQi",
        "outputId": "d469978e-dade-43af-a95c-717b97fc89e0"
      },
      "outputs": [
        {
          "output_type": "stream",
          "name": "stdout",
          "text": [
            "Train Accuracy\n",
            "\n",
            "              precision    recall  f1-score   support\n",
            "\n",
            "    negative       0.94      0.51      0.67       866\n",
            "    positive       0.97      1.00      0.98     13477\n",
            "\n",
            "    accuracy                           0.97     14343\n",
            "   macro avg       0.96      0.76      0.82     14343\n",
            "weighted avg       0.97      0.97      0.96     14343\n",
            "\n",
            "\n",
            " [[  445   421]\n",
            " [   27 13450]]\n",
            "\n",
            " 0.9687652513421181\n",
            "****************************************************************************************************\n",
            "Test Accuracy\n",
            "\n",
            "              precision    recall  f1-score   support\n",
            "\n",
            "    negative       0.80      0.44      0.57       324\n",
            "    positive       0.97      0.99      0.98      5824\n",
            "\n",
            "    accuracy                           0.96      6148\n",
            "   macro avg       0.89      0.72      0.78      6148\n",
            "weighted avg       0.96      0.96      0.96      6148\n",
            "\n",
            "\n",
            " [[ 143  181]\n",
            " [  35 5789]]\n",
            "\n",
            " 0.9648666232921275\n"
          ]
        }
      ],
      "source": [
        "accuracy(y_train,y_train_pred,y_test,y_test_pred)"
      ]
    },
    {
      "cell_type": "code",
      "source": [
        "y_pred = gb.predict(X_test)"
      ],
      "metadata": {
        "id": "O7nXbJazyR8P"
      },
      "execution_count": 90,
      "outputs": []
    },
    {
      "cell_type": "code",
      "source": [
        "from sklearn.metrics import classification_report\n",
        "print(classification_report(y_test,y_pred))"
      ],
      "metadata": {
        "colab": {
          "base_uri": "https://localhost:8080/"
        },
        "id": "odu-wLMeyNPG",
        "outputId": "aa15e1f9-2488-4443-fdc9-6285b3bc4e42"
      },
      "execution_count": 91,
      "outputs": [
        {
          "output_type": "stream",
          "name": "stdout",
          "text": [
            "              precision    recall  f1-score   support\n",
            "\n",
            "    negative       0.80      0.44      0.57       324\n",
            "    positive       0.97      0.99      0.98      5824\n",
            "\n",
            "    accuracy                           0.96      6148\n",
            "   macro avg       0.89      0.72      0.78      6148\n",
            "weighted avg       0.96      0.96      0.96      6148\n",
            "\n"
          ]
        }
      ]
    },
    {
      "cell_type": "markdown",
      "source": [
        "**Overall Accuracy for random Forest is 96%**"
      ],
      "metadata": {
        "id": "m9B9N3uZyc36"
      }
    },
    {
      "cell_type": "markdown",
      "source": [
        "# SVM"
      ],
      "metadata": {
        "id": "scDkrdgSyetu"
      }
    },
    {
      "cell_type": "code",
      "execution_count": 92,
      "metadata": {
        "id": "F9bxwrOIfd4j"
      },
      "outputs": [],
      "source": [
        "# 5) svm\n",
        "from sklearn.svm import SVC\n",
        "clf = SVC(kernel='linear',C=10)\n",
        "clf.fit(X_train , y_train) \n",
        "\n",
        "y_train_pred = clf.predict(X_train)\n",
        "y_test_pred = clf.predict(X_test)"
      ]
    },
    {
      "cell_type": "code",
      "execution_count": 93,
      "metadata": {
        "id": "HTaVxUyjhhue",
        "colab": {
          "base_uri": "https://localhost:8080/"
        },
        "outputId": "95fe386e-81ed-4d97-a648-eac9ab89c3d1"
      },
      "outputs": [
        {
          "output_type": "stream",
          "name": "stdout",
          "text": [
            "Train Accuracy\n",
            "\n",
            "              precision    recall  f1-score   support\n",
            "\n",
            "    negative       1.00      1.00      1.00       866\n",
            "    positive       1.00      1.00      1.00     13477\n",
            "\n",
            "    accuracy                           1.00     14343\n",
            "   macro avg       1.00      1.00      1.00     14343\n",
            "weighted avg       1.00      1.00      1.00     14343\n",
            "\n",
            "\n",
            " [[  866     0]\n",
            " [    0 13477]]\n",
            "\n",
            " 1.0\n",
            "****************************************************************************************************\n",
            "Test Accuracy\n",
            "\n",
            "              precision    recall  f1-score   support\n",
            "\n",
            "    negative       0.77      0.67      0.72       324\n",
            "    positive       0.98      0.99      0.99      5824\n",
            "\n",
            "    accuracy                           0.97      6148\n",
            "   macro avg       0.88      0.83      0.85      6148\n",
            "weighted avg       0.97      0.97      0.97      6148\n",
            "\n",
            "\n",
            " [[ 217  107]\n",
            " [  65 5759]]\n",
            "\n",
            " 0.9720234222511386\n"
          ]
        }
      ],
      "source": [
        "accuracy(y_train,y_train_pred,y_test,y_test_pred)"
      ]
    },
    {
      "cell_type": "code",
      "source": [
        "y_pred = clf.predict(X_test)"
      ],
      "metadata": {
        "id": "62q1S9JuyomF"
      },
      "execution_count": 94,
      "outputs": []
    },
    {
      "cell_type": "code",
      "source": [
        "from sklearn.metrics import classification_report\n",
        "print(classification_report(y_test,y_pred))"
      ],
      "metadata": {
        "colab": {
          "base_uri": "https://localhost:8080/"
        },
        "id": "yfkW8bD8yl85",
        "outputId": "d49623a4-a92a-4e98-ac39-4f351f54a6a8"
      },
      "execution_count": 95,
      "outputs": [
        {
          "output_type": "stream",
          "name": "stdout",
          "text": [
            "              precision    recall  f1-score   support\n",
            "\n",
            "    negative       0.77      0.67      0.72       324\n",
            "    positive       0.98      0.99      0.99      5824\n",
            "\n",
            "    accuracy                           0.97      6148\n",
            "   macro avg       0.88      0.83      0.85      6148\n",
            "weighted avg       0.97      0.97      0.97      6148\n",
            "\n"
          ]
        }
      ]
    },
    {
      "cell_type": "markdown",
      "source": [
        "**Overall Accuracy for random Forest is 97%**"
      ],
      "metadata": {
        "id": "XMTTglZfyq84"
      }
    },
    {
      "cell_type": "markdown",
      "source": [
        "#Prediction\n",
        "- considering SVM as the final model"
      ],
      "metadata": {
        "id": "logF4MEYzQqA"
      }
    },
    {
      "cell_type": "code",
      "source": [
        "clf.fit(X_train_tfidf_transform, data['review_segment']) "
      ],
      "metadata": {
        "colab": {
          "base_uri": "https://localhost:8080/"
        },
        "id": "tmDeLPzn0X-M",
        "outputId": "8d4fb9b8-8fa1-4b78-8b62-a1d7bbdac466"
      },
      "execution_count": 96,
      "outputs": [
        {
          "output_type": "execute_result",
          "data": {
            "text/plain": [
              "SVC(C=10, kernel='linear')"
            ]
          },
          "metadata": {},
          "execution_count": 96
        }
      ]
    },
    {
      "cell_type": "markdown",
      "source": [
        "**Predict Positive Review**"
      ],
      "metadata": {
        "id": "9jh4V-NJcJGb"
      }
    },
    {
      "cell_type": "code",
      "source": [
        "new_data = ['unique, great stay','great location price view hotel great quick',\n",
        "           'loved, stayed warwick overnight getway enjoy','pay read reviews booked knew getting']"
      ],
      "metadata": {
        "id": "gZjcyqXCHYCe"
      },
      "execution_count": 125,
      "outputs": []
    },
    {
      "cell_type": "code",
      "source": [
        "new_clean_data = list(map(preprocess, new_data))\n",
        "new_clean_data"
      ],
      "metadata": {
        "colab": {
          "base_uri": "https://localhost:8080/"
        },
        "id": "qj-QO_HZHYqR",
        "outputId": "90a47d29-ff57-44e6-82a6-6235df7b00c3"
      },
      "execution_count": 126,
      "outputs": [
        {
          "output_type": "execute_result",
          "data": {
            "text/plain": [
              "['unique great stay',\n",
              " 'great location price view hotel great quick',\n",
              " 'loved stayed warwick overnight getway enjoy',\n",
              " 'pay read review booked knew getting']"
            ]
          },
          "metadata": {},
          "execution_count": 126
        }
      ]
    },
    {
      "cell_type": "code",
      "source": [
        "new_data_tf = tfidf_vect.transform(new_clean_data)\n",
        "new_data_tf"
      ],
      "metadata": {
        "colab": {
          "base_uri": "https://localhost:8080/"
        },
        "id": "gHf6ZBktHdfq",
        "outputId": "105b499a-ae33-44a0-a5f0-8e779f586e56"
      },
      "execution_count": 127,
      "outputs": [
        {
          "output_type": "execute_result",
          "data": {
            "text/plain": [
              "<4x45604 sparse matrix of type '<class 'numpy.float64'>'\n",
              "\twith 21 stored elements in Compressed Sparse Row format>"
            ]
          },
          "metadata": {},
          "execution_count": 127
        }
      ]
    },
    {
      "cell_type": "code",
      "source": [
        "clf_pred_train_y = clf.predict(new_data_tf)\n",
        "clf_pred_train_y"
      ],
      "metadata": {
        "colab": {
          "base_uri": "https://localhost:8080/"
        },
        "id": "gFSrwQt_Hf7B",
        "outputId": "530af9c5-1b9f-40a0-cf46-4f5793420ab3"
      },
      "execution_count": 128,
      "outputs": [
        {
          "output_type": "execute_result",
          "data": {
            "text/plain": [
              "array(['positive', 'positive', 'positive', 'positive'], dtype=object)"
            ]
          },
          "metadata": {},
          "execution_count": 128
        }
      ]
    },
    {
      "cell_type": "code",
      "source": [
        "reviewText = \"excellent stay delightful surprise stay\""
      ],
      "metadata": {
        "id": "NU6JYUctHqNc"
      },
      "execution_count": 129,
      "outputs": []
    },
    {
      "cell_type": "code",
      "source": [
        "cleanReviewText = preprocess(reviewText)\n",
        "cleanReviewText"
      ],
      "metadata": {
        "colab": {
          "base_uri": "https://localhost:8080/",
          "height": 36
        },
        "id": "U1mOQZOaIQqu",
        "outputId": "070661a8-691b-4c7a-86c3-72de212a1645"
      },
      "execution_count": 130,
      "outputs": [
        {
          "output_type": "execute_result",
          "data": {
            "text/plain": [
              "'excellent stay delightful surprise stay'"
            ],
            "application/vnd.google.colaboratory.intrinsic+json": {
              "type": "string"
            }
          },
          "metadata": {},
          "execution_count": 130
        }
      ]
    },
    {
      "cell_type": "code",
      "source": [
        "textTfIDF = tfidf_vect.transform([cleanReviewText])"
      ],
      "metadata": {
        "id": "T0RBGa_EISv1"
      },
      "execution_count": 131,
      "outputs": []
    },
    {
      "cell_type": "code",
      "source": [
        "predictedOutput=clf.predict(textTfIDF)\n",
        "predictedOutput = predictedOutput[0]\n",
        "predictedOutput"
      ],
      "metadata": {
        "colab": {
          "base_uri": "https://localhost:8080/",
          "height": 36
        },
        "id": "dWywqq95IVER",
        "outputId": "33dce6d8-074b-4753-b0ac-461b60d57450"
      },
      "execution_count": 132,
      "outputs": [
        {
          "output_type": "execute_result",
          "data": {
            "text/plain": [
              "'positive'"
            ],
            "application/vnd.google.colaboratory.intrinsic+json": {
              "type": "string"
            }
          },
          "metadata": {},
          "execution_count": 132
        }
      ]
    },
    {
      "cell_type": "code",
      "source": [
        "prdictionDist = clf.predict(textTfIDF)\n",
        "prdictionDist\n"
      ],
      "metadata": {
        "colab": {
          "base_uri": "https://localhost:8080/"
        },
        "id": "c1WEFpYWcF5G",
        "outputId": "c4cdf7d6-41b3-4ddf-b43d-f33a58524881"
      },
      "execution_count": 133,
      "outputs": [
        {
          "output_type": "execute_result",
          "data": {
            "text/plain": [
              "array(['positive'], dtype=object)"
            ]
          },
          "metadata": {},
          "execution_count": 133
        }
      ]
    },
    {
      "cell_type": "markdown",
      "source": [
        "**Predict Negative Review**"
      ],
      "metadata": {
        "id": "0oAeHo_ocTTv"
      }
    },
    {
      "cell_type": "code",
      "source": [
        "new=\"horrible customer worst bad not nice\""
      ],
      "metadata": {
        "id": "1giiKfmhJsPj"
      },
      "execution_count": 134,
      "outputs": []
    },
    {
      "cell_type": "code",
      "source": [
        "new_data1 = tfidf_vect.transform(new_clean_data)\n",
        "new_data1"
      ],
      "metadata": {
        "colab": {
          "base_uri": "https://localhost:8080/"
        },
        "id": "z-u4ERHJLf5f",
        "outputId": "57d807ec-17a5-4dbb-8985-88951fb13c12"
      },
      "execution_count": 135,
      "outputs": [
        {
          "output_type": "execute_result",
          "data": {
            "text/plain": [
              "<4x45604 sparse matrix of type '<class 'numpy.float64'>'\n",
              "\twith 21 stored elements in Compressed Sparse Row format>"
            ]
          },
          "metadata": {},
          "execution_count": 135
        }
      ]
    },
    {
      "cell_type": "code",
      "source": [
        "clf_pred_train_y = clf.predict(new_data1)\n",
        "clf_pred_train_y"
      ],
      "metadata": {
        "colab": {
          "base_uri": "https://localhost:8080/"
        },
        "id": "Dd4FssT6bGKA",
        "outputId": "b3e68bdc-b1ab-4f31-94bb-c9fc70c4b2e5"
      },
      "execution_count": 136,
      "outputs": [
        {
          "output_type": "execute_result",
          "data": {
            "text/plain": [
              "array(['positive', 'positive', 'positive', 'positive'], dtype=object)"
            ]
          },
          "metadata": {},
          "execution_count": 136
        }
      ]
    },
    {
      "cell_type": "code",
      "source": [
        "reviewText = \"horrible bad worst not stay\""
      ],
      "metadata": {
        "id": "pyY7nBs0bXII"
      },
      "execution_count": 137,
      "outputs": []
    },
    {
      "cell_type": "code",
      "source": [
        "cleanReviewText = preprocess(reviewText)\n",
        "cleanReviewText"
      ],
      "metadata": {
        "colab": {
          "base_uri": "https://localhost:8080/",
          "height": 36
        },
        "id": "RjXzkbeAbgO8",
        "outputId": "b6f5fa54-6551-42ed-8a04-1eb12157960f"
      },
      "execution_count": 138,
      "outputs": [
        {
          "output_type": "execute_result",
          "data": {
            "text/plain": [
              "'horible bad worst stay'"
            ],
            "application/vnd.google.colaboratory.intrinsic+json": {
              "type": "string"
            }
          },
          "metadata": {},
          "execution_count": 138
        }
      ]
    },
    {
      "cell_type": "code",
      "source": [
        "textTfIDF = tfidf_vect.transform([cleanReviewText])"
      ],
      "metadata": {
        "id": "WH9sZVU7bjYr"
      },
      "execution_count": 139,
      "outputs": []
    },
    {
      "cell_type": "code",
      "source": [
        "predictedOutput=clf.predict(textTfIDF)\n",
        "predictedOutput = predictedOutput[0]\n",
        "predictedOutput"
      ],
      "metadata": {
        "colab": {
          "base_uri": "https://localhost:8080/",
          "height": 36
        },
        "id": "Wtd48sCCbmvO",
        "outputId": "0306abed-3ba4-4055-f8a4-5684091173c3"
      },
      "execution_count": 140,
      "outputs": [
        {
          "output_type": "execute_result",
          "data": {
            "text/plain": [
              "'negative'"
            ],
            "application/vnd.google.colaboratory.intrinsic+json": {
              "type": "string"
            }
          },
          "metadata": {},
          "execution_count": 140
        }
      ]
    },
    {
      "cell_type": "code",
      "source": [
        "prdictionDist = clf.predict(textTfIDF)\n",
        "prdictionDist\n"
      ],
      "metadata": {
        "colab": {
          "base_uri": "https://localhost:8080/"
        },
        "id": "xAApTi2fIbI-",
        "outputId": "d5116f1e-23ff-440c-9523-95ed1778e1cd"
      },
      "execution_count": 141,
      "outputs": [
        {
          "output_type": "execute_result",
          "data": {
            "text/plain": [
              "array(['negative'], dtype=object)"
            ]
          },
          "metadata": {},
          "execution_count": 141
        }
      ]
    },
    {
      "cell_type": "markdown",
      "source": [
        "# save the model"
      ],
      "metadata": {
        "id": "0BzRk5dRJUtC"
      }
    },
    {
      "cell_type": "code",
      "source": [
        "import pickle\n",
        "import requests\n",
        "import json\n",
        "import joblib"
      ],
      "metadata": {
        "id": "P2YcLEuhJaC3"
      },
      "execution_count": null,
      "outputs": []
    },
    {
      "cell_type": "code",
      "source": [
        "pickle_out = open(\"model_1.pkl\",\"wb\")\n",
        "pickle_out=joblib.dump(lg_model,pickle_out)\n",
        "pickle_out"
      ],
      "metadata": {
        "id": "dUSibTF9JQYe"
      },
      "execution_count": null,
      "outputs": []
    },
    {
      "cell_type": "code",
      "source": [
        "pickle_out_tfidf = open(\"model_1_tfidf.pkl\",\"wb\")\n",
        "pickle_out_tfidf=joblib.dump(tfidf_vect,pickle_out_tfidf)\n",
        "pickle_out_tfidf"
      ],
      "metadata": {
        "id": "ZMo6gd8cI9Fy"
      },
      "execution_count": null,
      "outputs": []
    },
    {
      "cell_type": "code",
      "source": [],
      "metadata": {
        "id": "WEHg4ZdtJaq4"
      },
      "execution_count": null,
      "outputs": []
    }
  ],
  "metadata": {
    "colab": {
      "provenance": []
    },
    "kernelspec": {
      "display_name": "Python 3 (ipykernel)",
      "language": "python",
      "name": "python3"
    },
    "language_info": {
      "codemirror_mode": {
        "name": "ipython",
        "version": 3
      },
      "file_extension": ".py",
      "mimetype": "text/x-python",
      "name": "python",
      "nbconvert_exporter": "python",
      "pygments_lexer": "ipython3",
      "version": "3.9.12"
    }
  },
  "nbformat": 4,
  "nbformat_minor": 0
}